{
  "nbformat": 4,
  "nbformat_minor": 0,
  "metadata": {
    "colab": {
      "private_outputs": true,
      "provenance": [],
      "collapsed_sections": [
        "UV0SzAkaZNRQ",
        "YPEH6qLeZNRQ",
        "gIfDvo9L0UH2"
      ],
      "include_colab_link": true
    },
    "kernelspec": {
      "name": "python3",
      "display_name": "Python 3"
    },
    "language_info": {
      "name": "python"
    }
  },
  "cells": [
    {
      "cell_type": "markdown",
      "metadata": {
        "id": "view-in-github",
        "colab_type": "text"
      },
      "source": [
        "<a href=\"https://colab.research.google.com/github/nayanasalve/GTDproject/blob/main/Global_Terrorism_Analysis_EDA_Submission_by_Nayana_salve_.ipynb\" target=\"_parent\"><img src=\"https://colab.research.google.com/assets/colab-badge.svg\" alt=\"Open In Colab\"/></a>"
      ]
    },
    {
      "cell_type": "markdown",
      "source": [
        "# **Project Name**    - GTDproject EDA\n",
        "\n"
      ],
      "metadata": {
        "id": "vncDsAP0Gaoa"
      }
    },
    {
      "cell_type": "markdown",
      "source": [
        "##### **Project Type**    - EDA\n",
        "##### **Contribution**    - Team\n",
        "##### **Team Member 1 -** Vishal R Shrivastav\n",
        "##### **Team Member 2 -** Arun Choudhary\n",
        "##### **Team Member 3 -** Nayana Salve\n"
      ],
      "metadata": {
        "id": "beRrZCGUAJYm"
      }
    },
    {
      "cell_type": "markdown",
      "source": [
        "# **Project Summary -**"
      ],
      "metadata": {
        "id": "FJNUwmbgGyua"
      }
    },
    {
      "cell_type": "markdown",
      "source": [
        "\n",
        "\n",
        "* Project title\n",
        "\n",
        "    Global Terrorism Analysis\n",
        "\n",
        "\n",
        "* Project phases\n",
        "\n",
        "  Phase 1 - Exploring and Organizing the dataset  \n",
        "  Phase 2 - Reviewing and Checking for missing values and filling by suitable values\n",
        "\n",
        "  Phase 3 - Visualizing the data Planned project start and end date  \n",
        "\n",
        "* Planned project start and end date\n",
        "\n",
        "  7 July 2023 t0 11 July 2023\n",
        "\n",
        "* Project objective\n",
        "\n",
        "  To perform EDA(Exploratory Data Analysis) on *Global Terrorism* Dataset\n",
        "\n",
        "* Project timeline\n",
        "  \n",
        "   11 July 2023\n",
        "\n",
        "\n",
        "\n",
        "* Expected date of delivery\n",
        "\n",
        "  11 July 2023\n",
        "\n",
        "\n"
      ],
      "metadata": {
        "id": "yJZ5R7tJOjoc"
      }
    },
    {
      "cell_type": "markdown",
      "source": [
        "Write the summary here within 500-600 words."
      ],
      "metadata": {
        "id": "F6v_1wHtG2nS"
      }
    },
    {
      "cell_type": "markdown",
      "source": [
        "# **GitHub Link -**"
      ],
      "metadata": {
        "id": "w6K7xa23Elo4"
      }
    },
    {
      "cell_type": "markdown",
      "source": [
        "https://github.com/nayanasalve/GTDproject"
      ],
      "metadata": {
        "id": "h1o69JH3Eqqn"
      }
    },
    {
      "cell_type": "markdown",
      "source": [
        "# **Problem Statement**\n"
      ],
      "metadata": {
        "id": "yQaldy8SH6Dl"
      }
    },
    {
      "cell_type": "markdown",
      "source": [
        "The Global Terrorism Database (GTD) is an open-source database including information on terrorist attacks around the world from 1970 through 2017.\n",
        "\n",
        "The GTD includes systematic data on domestic as well as international terrorist incidents that have occurred during this time period and now includes more than 180,000 attacks. The database is maintained by researchers at the National Consortium for the Study of Terrorism and Responses to Terrorism (START), headquartered at the University of Maryland. Explore and analyze the data to discover key findings pertaining to terrorist activities."
      ],
      "metadata": {
        "id": "RGlZnnwmvSVc"
      }
    },
    {
      "cell_type": "markdown",
      "source": [
        "#### **Define Your Business Objective?**"
      ],
      "metadata": {
        "id": "PH-0ReGfmX4f"
      }
    },
    {
      "cell_type": "markdown",
      "source": [
        "N/A"
      ],
      "metadata": {
        "id": "AfZVV5Q5vfUU"
      }
    },
    {
      "cell_type": "markdown",
      "source": [
        "# **General Guidelines** : -  "
      ],
      "metadata": {
        "id": "mDgbUHAGgjLW"
      }
    },
    {
      "cell_type": "markdown",
      "source": [
        "1.   Well-structured, formatted, and commented code is required.\n",
        "2.   Exception Handling, Production Grade Code & Deployment Ready Code will be a plus. Those students will be awarded some additional credits.\n",
        "     \n",
        "     The additional credits will have advantages over other students during Star Student selection.\n",
        "       \n",
        "             [ Note: - Deployment Ready Code is defined as, the whole .ipynb notebook should be executable in one go\n",
        "                       without a single error logged. ]\n",
        "\n",
        "3.   Each and every logic should have proper comments.\n",
        "4. You may add as many number of charts you want. Make Sure for each and every chart the following format should be answered.\n",
        "        \n",
        "\n",
        "```\n",
        "# Chart visualization code\n",
        "```\n",
        "            \n",
        "\n",
        "*   Why did you pick the specific chart?\n",
        "*   What is/are the insight(s) found from the chart?\n",
        "* Will the gained insights help creating a positive business impact?\n",
        "Are there any insights that lead to negative growth? Justify with specific reason.\n",
        "\n",
        "5. You have to create at least 20 logical & meaningful charts having important insights.\n",
        "\n",
        "\n",
        "[ Hints : - Do the Vizualization in  a structured way while following \"UBM\" Rule.\n",
        "\n",
        "U - Univariate Analysis,\n",
        "\n",
        "B - Bivariate Analysis (Numerical - Categorical, Numerical - Numerical, Categorical - Categorical)\n",
        "\n",
        "M - Multivariate Analysis\n",
        " ]\n",
        "\n",
        "\n",
        "\n"
      ],
      "metadata": {
        "id": "ZrxVaUj-hHfC"
      }
    },
    {
      "cell_type": "markdown",
      "source": [
        "# ***Let's Begin !***"
      ],
      "metadata": {
        "id": "O_i_v8NEhb9l"
      }
    },
    {
      "cell_type": "markdown",
      "source": [
        "## ***1. Know Your Data***"
      ],
      "metadata": {
        "id": "HhfV-JJviCcP"
      }
    },
    {
      "cell_type": "markdown",
      "source": [
        "### Import Libraries"
      ],
      "metadata": {
        "id": "Y3lxredqlCYt"
      }
    },
    {
      "cell_type": "code",
      "source": [
        "# Import Libraries\n",
        "try:\n",
        "    import warnings\n",
        "    import numpy as np # To perform mathematical operations on arrays\n",
        "    import pandas as pd # Manipulation with data by dataframes\n",
        "    import seaborn as sbn # Used For visualization\n",
        "    import matplotlib.pyplot as plt # Also used to visualize data (It act as core library for seaborn)\n",
        "    warnings.simplefilter(action='ignore', category=FutureWarning)\n",
        "except Exception as e:\n",
        "    print(e)\n",
        "else:\n",
        "    print('Required Libraries successfully Imported')\n"
      ],
      "metadata": {
        "id": "M8Vqi-pPk-HR"
      },
      "execution_count": null,
      "outputs": []
    },
    {
      "cell_type": "markdown",
      "source": [
        "# Importing Library to mount drive for accesing dataset\n"
      ],
      "metadata": {
        "id": "VLQ8u30CGnin"
      }
    },
    {
      "cell_type": "code",
      "source": [
        "try:\n",
        "    from google.colab import drive # Library to mount drive in colaboratory environment\n",
        "    drive.mount('/content/drive/')\n",
        "except Exception as e:\n",
        "    print(e)\n",
        "else:\n",
        "    print('Drive Monted Successfully')"
      ],
      "metadata": {
        "id": "61GwFqzqGMWJ"
      },
      "execution_count": null,
      "outputs": []
    },
    {
      "cell_type": "markdown",
      "source": [
        "### Dataset Loading"
      ],
      "metadata": {
        "id": "3RnN4peoiCZX"
      }
    },
    {
      "cell_type": "code",
      "source": [
        "# Load Dataset\n",
        "# pandas library to create dataframe\n",
        "try:\n",
        "    df_GTA = pd.read_csv('/content/drive/MyDrive/Colab Notebooks/Module /week/Day folder/EDA Capstone project /Global Terrorism Data.csv',encoding='ISO-8859-1',low_memory=False)\n",
        "except Exception as e:\n",
        "    print(e)\n",
        "else:\n",
        "    print('DataFrame created using csv')"
      ],
      "metadata": {
        "id": "4CkvbW_SlZ_R"
      },
      "execution_count": null,
      "outputs": []
    },
    {
      "cell_type": "markdown",
      "source": [
        "### Dataset First View"
      ],
      "metadata": {
        "id": "x71ZqKXriCWQ"
      }
    },
    {
      "cell_type": "code",
      "source": [
        "# Dataset First Look\n",
        "try:\n",
        "    print(df_GTA.head().to_string()) #Printing first five row\n",
        "except Exception as e:\n",
        "    print(e)\n",
        "else:\n",
        "    print('First five rows loaded to see Dataset First Look.')"
      ],
      "metadata": {
        "id": "LWNFOSvLl09H"
      },
      "execution_count": null,
      "outputs": []
    },
    {
      "cell_type": "markdown",
      "source": [
        "### Dataset Rows & Columns count"
      ],
      "metadata": {
        "id": "7hBIi_osiCS2"
      }
    },
    {
      "cell_type": "code",
      "source": [
        "# Dataset Rows & Columns count\n",
        "try:\n",
        "    s = df_GTA.shape # Shape attribute to access number of rows and columns\n",
        "except Exception as e:\n",
        "    print(e)\n",
        "else:\n",
        "    print(f'We have {s[0]} rows and {s[1]} columns to analyze.')"
      ],
      "metadata": {
        "id": "Kllu7SJgmLij"
      },
      "execution_count": null,
      "outputs": []
    },
    {
      "cell_type": "markdown",
      "source": [
        "### Dataset Information"
      ],
      "metadata": {
        "id": "JlHwYmJAmNHm"
      }
    },
    {
      "cell_type": "code",
      "source": [
        "# Dataset Info\n",
        "try:\n",
        "    df_GTA.info(verbose=True,null_counts=True) # Here our dataset having large number of columns so we used extra arguments\n",
        "except Exception as e:\n",
        "    print(e)\n",
        "else:\n",
        "    print('Info of dataset loaded Successfully')"
      ],
      "metadata": {
        "id": "e9hRXRi6meOf"
      },
      "execution_count": null,
      "outputs": []
    },
    {
      "cell_type": "markdown",
      "source": [
        "#### Duplicate Values"
      ],
      "metadata": {
        "id": "35m5QtbWiB9F"
      }
    },
    {
      "cell_type": "code",
      "source": [
        "# Dataset Duplicate Value Count\n",
        "try:\n",
        "    print('Duplicate count of rows: ',len(df_GTA[df_GTA.duplicated()]))# We use duplicated method which return boolean indexing\n",
        "except Exception as e:\n",
        "    print(e)\n"
      ],
      "metadata": {
        "id": "1sLdpKYkmox0"
      },
      "execution_count": null,
      "outputs": []
    },
    {
      "cell_type": "markdown",
      "source": [
        "* We dont have any duplicate rows"
      ],
      "metadata": {
        "id": "Z7Ue2JZl-fms"
      }
    },
    {
      "cell_type": "markdown",
      "source": [
        "#### Missing Values/Null Values"
      ],
      "metadata": {
        "id": "PoPl-ycgm1ru"
      }
    },
    {
      "cell_type": "code",
      "source": [
        "# Missing Values/Null Values Count\n",
        "try:\n",
        "    missing_data = df_GTA.isnull()\n",
        "    missing_counts = missing_data.sum()\n",
        "    print('Missing value counts per column:\\n',missing_counts.to_string())\n",
        "except Exception as e:\n",
        "    print(e)"
      ],
      "metadata": {
        "id": "GgHWkxvamxVg"
      },
      "execution_count": null,
      "outputs": []
    },
    {
      "cell_type": "markdown",
      "source": [
        "Before plotting heatmap of missing data in features we dropping some columns which are too redundant and nigligible data some columns done"
      ],
      "metadata": {
        "id": "XPD1tnH6maMe"
      }
    },
    {
      "cell_type": "code",
      "source": [
        "# Here we are assigning only the columns which have to be perform operation\n",
        "# Instead of drop we are assigning selected columns which are going to be part of project\n",
        "try:\n",
        "    df_GTA = df_GTA[['iyear', 'imonth', 'iday','country','country_txt', 'region','region_txt', 'city', 'latitude', 'longitude', 'vicinity', 'crit1', 'crit2', 'crit3', 'doubtterr',\\\n",
        "                    'success', 'suicide', 'attacktype1','attacktype1_txt','targtype1', 'targtype1_txt', 'individual', 'weaptype1','weaptype1_txt', 'nkill', 'nkillus', 'nkillter',\\\n",
        "                    'nwound', 'nwoundus', 'nwoundte', 'property','propextent', 'propextent_txt', 'ishostkid', 'INT_LOG', 'INT_IDEO', 'INT_MISC', 'INT_ANY']]\n",
        "    missing_data = df_GTA.isnull()\n",
        "except Exception as e:\n",
        "    print(e)"
      ],
      "metadata": {
        "id": "9ZVUTOzsm_gU"
      },
      "execution_count": null,
      "outputs": []
    },
    {
      "cell_type": "code",
      "source": [
        "# Visualizing the missing values by heatmap\n",
        "try:\n",
        "    ax , fig = plt.subplots(figsize=(15,10))\n",
        "    sbn.heatmap(missing_data.T) # Used heatmap of\n",
        "    plt.title('Visualizing Missing Data')\n",
        "    plt.show()\n",
        "except Exception as e:\n",
        "    print(e)"
      ],
      "metadata": {
        "id": "3q5wnI3om9sJ"
      },
      "execution_count": null,
      "outputs": []
    },
    {
      "cell_type": "markdown",
      "source": [
        "* By above visualization we can see that the light coloured part shows missing data and Blue coloured parts are filled data"
      ],
      "metadata": {
        "id": "bUCm3q2S_CHi"
      }
    },
    {
      "cell_type": "markdown",
      "source": [
        "### What did you know about your dataset?"
      ],
      "metadata": {
        "id": "H0kj-8xxnORC"
      }
    },
    {
      "cell_type": "markdown",
      "source": [
        "\n",
        "\n",
        "*   Dataset is about Global Terorism Data. Dataset comprises columns about attacks, date, year, month, attack type informations which are very helpful to analyze about the terorrism. Why it happens. How can we ready to tackle this type of situations,. etc.\n",
        "\n",
        "\n",
        "*  Initially Dataset having 181691 rows and 135 columns. Most of these columns are incomplete. So, we dicided to drop.\n",
        "\n",
        "*  After droping those columns we have 33 columns to start EDA\n",
        "\n",
        "\n",
        "\n",
        "\n",
        "\n",
        "\n",
        "\n",
        "\n"
      ],
      "metadata": {
        "id": "yBA_vaue1MSd"
      }
    },
    {
      "cell_type": "markdown",
      "source": [
        "Answer Here"
      ],
      "metadata": {
        "id": "gfoNAAC-nUe_"
      }
    },
    {
      "cell_type": "markdown",
      "source": [
        "## ***2. Understanding Your Variables***"
      ],
      "metadata": {
        "id": "nA9Y7ga8ng1Z"
      }
    },
    {
      "cell_type": "code",
      "source": [
        "# Dataset Columns\n",
        "try:\n",
        "    columns_df_GTA = np.array(df_GTA.columns) # Storing in array for later use\n",
        "    print('Columns list in the Final dataset which is going to be used: ',columns_df_GTA)\n",
        "except Exception as e:\n",
        "    print(e)"
      ],
      "metadata": {
        "id": "j7xfkqrt5Ag5"
      },
      "execution_count": null,
      "outputs": []
    },
    {
      "cell_type": "code",
      "source": [
        "# Dataset Describe\n",
        "print(df_GTA.describe().T.to_string)"
      ],
      "metadata": {
        "id": "DnOaZdaE5Q5t"
      },
      "execution_count": null,
      "outputs": []
    },
    {
      "cell_type": "markdown",
      "source": [
        "### Variables Description"
      ],
      "metadata": {
        "id": "PBTbrJXOngz2"
      }
    },
    {
      "cell_type": "markdown",
      "source": [
        "Answer Here"
      ],
      "metadata": {
        "id": "aJV4KIxSnxay"
      }
    },
    {
      "cell_type": "markdown",
      "source": [
        "\n",
        "\n",
        "\n",
        "*   'iyear'  - This field contains the year in which the incident occurred\n",
        "\n",
        "*   'imonth' - The field will record the month when the incident was initiated.\n",
        "\n",
        "*   'iday' -   This field contains the numeric day of the month on which\n",
        " incident occurred\n",
        "\n",
        "*  'country_txt' - This field identifies the country or location where the  \n",
        "incident occurred. In case where the country in which an incident occurred cannot be identified it is coded as unknown\n",
        "\n",
        "*   'region_txt'- This field identifies the region in which the incident\n",
        "occurred the regions are divided into categories and depended on the country code\n",
        "*   'city' - This field contains the name of city,village, or town in which the\n",
        "incident occurred\n",
        "\n",
        "\n",
        "*   'latitude' - This field record the latitude (based on WGS1984 standards)   \n",
        "of the city in which the event occurred\n",
        "\n",
        "\n",
        "\n",
        "*   'longitude'- This field records the longitude (based on WGS1984 standards)\n",
        "of the city in which event is occurred\n",
        "\n",
        "\n",
        "*   'vicinity' - 1 = \"yes\" the incident occurred in the immediate vicinity of the city\n",
        "               0 = \"No\" the incident in the city itself\n",
        "*  'crit1' -  The violent act must be aimed at attaining a political, economic, religious, or social goal. This criterion is not satisfied in those cases where the perpetrator(s) acted out of a pure profit motive or from an idiosyncratic personal motive unconnected with broader societal change.\n",
        "  1 = \"Yes\" The incident meets Criterion 1.\n",
        "  0 = \"No\" The incident does not meet Criterion 1\n",
        "  \n",
        "*  'crit2' - To satisfy this criterion there must be evidence of an intention to coerce, intimidate, or convey some other message to a larger audience (or audiences) than the immediate victims. Such evidence can include (but is not limited to) the following: pre- or postattack statements by the perpetrator(s), past behavior by the perpetrators, or the particular nature of the target/victim, weapon, or attack type\n",
        "  1 = \"Yes\" The incident meets Criterion 2.\n",
        "  0 = \"No\" The incident does not meet Criterion 2 or no indication.\n",
        "  \n",
        "*  'crit3' - The action is outside the context of legitimate warfare activities, insofar as it targets non-combatants (i.e. the act must be outside the parameters permitted by international humanitarian law as reflected in the Additional Protocol to the Geneva Conventions of 12 August 1949 and elsewhere).\n",
        "  1 = \"Yes\" The incident meets Criterion 3.\n",
        "  0 = \"No\" The incident does not meet Criterion 3\n",
        "  \n",
        "*  'doubtterr' - 1 = \"Yes\" There is doubt as to whether the incident is an act of terrorism. 0 = \"No\" There is essentially no doubt as to whether the incident is an act of terrorism.\n",
        " \t\t\t   \n",
        "* 'success' - , Attack is successful if any of the attack types are successful, with the exception of assassinations, which are only successful if the intended target is killed.\n",
        "  1 = \"Yes\" The incident was successful.\n",
        "  0 = \"No\" The incident was not successful.\n",
        "\n",
        "*  'suicide' - This variable is coded “Yes” in those cases where there is evidence that the perpetrator did not intend to escape from the attack alive.\n",
        "  1 = \"Yes\" The incident was a suicide attack.\n",
        "  0 = \"No\" There is no indication that the incident was a suicide attack.\n",
        "  \n",
        "*  'attacktype1_txt' -  It consists of nine categories, which are defined below.\n",
        "   1 = ASSASSINATION (An act whose primary objective is to kill one or more specific, prominent individuals. )\n",
        "   2 = ARMED ASSAULT (An attack whose primary objective is to cause physical harm or death directly to human beings by use of a firearm, incendiary, or sharp instrument (knife, etc.))\n",
        "   3 = BOMBING/EXPLOSION (An attack where the primary effects are caused by an energetically unstable material undergoing rapid decomposition and releasing a pressure wave that causes physical damage to the surrounding environment.)\n",
        "   4 = HIJACKING (An act whose primary objective is to take control of a vehicle such as an aircraft, boat, bus, etc.)\n",
        "   5 = HOSTAGE TAKING (BARRICADE INCIDENT) (An act whose primary objective is to take control of hostages for the purpose of achieving a political objective through concessions or through disruption of normal operations)\n",
        "   6 = HOSTAGE TAKING (KIDNAPPING) (An act whose primary objective is to take control of hostages for the purpose of achieving a political objective through concessions or through disruption of normal operations.)\n",
        "   7 = FACILITY / INFRASTRUCTURE ATTACK (An act, excluding the use of an explosive, whose primary objective is to cause damage to a non-human target, such as a building, monument, train, pipeline, etc)\n",
        "   8 = UNARMED ASSAULT (An attack whose primary objective is to cause physical harm or death directly to human beings by any means other than explosive, firearm, incendiary, or sharp instrument(knife, etc.).)\n",
        "   9 = UNKNOWN (The attack type cannot be determined from the available information.)\n",
        "  \n",
        "*  'targtype1_txt' - Target/Victim Information\n",
        "  1 = BUSINESS\n",
        "  2 = GOVERNMENT (GENERAL)\n",
        "  3 = POLICE\n",
        "  4 = MILITARY\n",
        "  5 = ABORTION RELATED\n",
        "  6 = AIRPORTS & AIRCRAFT\n",
        "  7 = GOVERNMENT (DIPLOMATIC)\n",
        "  8 = EDUCATIONAL INSTITUTION\n",
        "  9 = FOOD OR WATER SUPPLY\n",
        "  10 = JOURNALISTS & MEDIA\n",
        "\n",
        "*  'individual' -\n",
        "  1 = \"Yes\" The perpetrator(s) were identified by name (or specific unnamed minors) and not known to be affiliated with a group or organization.\n",
        "  0 = \"No\" The perpetrator(s) were not identified as unaffiliated individuals (i.e. the perpetrators were either not identified by name, or were known to be affiliated with a group or organization).\n",
        "\n",
        "*  'weaptype1_txt' - The weapon type used in attack\n",
        "  1 = Biological\n",
        "  2 = Chemical\n",
        "  3 = Radiological (A weapon whose components are produced from radioactive materials that emit ionizing radiation and can take many forms.)\n",
        "  4 = Nuclear\n",
        "  5 = Firearms (A weapon which is capable of firing a projectile using an explosive charge as a propellant.)\n",
        "  6 = Explosives\n",
        "  7 = Fake Weapons\n",
        "  8 = Incendiary (A weapon that is capable of catching fire, causing fire, or burning readily and produces intensely hot fire when exploded.)\n",
        "  9 = Melee (A weapon—targeting people rather than property—that does not involve a projectile in which the user and target are in contact with it simultaneously.)\n",
        "  10 = Vehicle (An automobile that is used in an incident that does not incorporate the use of explosives such as a car bomb or truck bomb.)\n",
        "  11 = Sabotage Equipment\n",
        "  12 = Other (A weapon that has been identified but does not fit into one of the above categories.)\n",
        "  13 = Unknown (The weapon type cannot be determined from the available information.)\n",
        "\n",
        "*  'nkill' - Total Number of Fatalities (This field stores the number of total confirmed fatalities for the incident. The number includes all victims and attackers who died as a direct result of the incident. )\n",
        "\n",
        "*  'nkillus' - Number of US Fatalities (This field records the number of U.S. citizens who died as a result of the incident, and follows the conventions of “Total Number of Fatalities” described above)\n",
        "\n",
        "*  'nkillter' - Number of Perpetrator Fatalities (Limited to only perpetrator fatalities, this field follows the conventions of the “Total Number of Fatalities” field described above)\n",
        "\n",
        "* 'nwound' - This field records the number of confirmed non-fatal injuries to both perpetrators and victims.\n",
        "\n",
        "\n",
        "* 'nwoundus' - This field records the number of confirmed non-fatal injuries to U.S. citizens, both perpetrators\n",
        "and victims.\n",
        "\n",
        "\n",
        "* 'nwoundte' - Conventions follow the “Number of Perpetrator Fatalities” field described above.\n",
        "\n",
        "\n",
        "* 'property' - “Yes” appears if there is evidence of property damage from the incident.\n",
        "\n",
        " 1 = \"Yes\" The incident resulted in property damage.\n",
        "\n",
        " 0 = \"No\" The incident did not result in property damage.\n",
        " -9 = \"Unknown\" It is unknown if the incident resulted in property damage\n",
        "               \n",
        "    \n",
        "    \n",
        "\n",
        "\n",
        "\n",
        "\n"
      ],
      "metadata": {
        "id": "NDKCtt2YrYIc"
      }
    },
    {
      "cell_type": "markdown",
      "source": [
        "### Check Unique Values for each variable."
      ],
      "metadata": {
        "id": "u3PMJOP6ngxN"
      }
    },
    {
      "cell_type": "code",
      "source": [
        "# Check Unique Values for each variable.\n",
        "try:\n",
        "    for variable in columns_df_GTA:\n",
        "        print(f'Unique values for {variable}')\n",
        "        print(df_GTA[variable].unique())\n",
        "        print('*'*50)\n",
        "except Exception as e:\n",
        "    print(e)"
      ],
      "metadata": {
        "id": "zms12Yq5n-jE"
      },
      "execution_count": null,
      "outputs": []
    },
    {
      "cell_type": "markdown",
      "source": [
        "## 3. ***Data Wrangling***"
      ],
      "metadata": {
        "id": "dauF4eBmngu3"
      }
    },
    {
      "cell_type": "markdown",
      "source": [
        "\n",
        "\n",
        "*   all columns datatypes\n",
        "\n"
      ],
      "metadata": {
        "id": "TZISiKOz2Es_"
      }
    },
    {
      "cell_type": "code",
      "source": [
        "try:\n",
        "    print('Columns with their datatypes: \\n',df_GTA.dtypes) #Used dtype propery of dataframe\n",
        "except Exception as e:\n",
        "    print(e)"
      ],
      "metadata": {
        "id": "YVhfBA6L6j7T"
      },
      "execution_count": null,
      "outputs": []
    },
    {
      "cell_type": "markdown",
      "source": [
        "* installing and importing pandarallel library to perform apply functions with multiprocessing functionality with initialization of 2 workers."
      ],
      "metadata": {
        "id": "9EfvM8KsYYck"
      }
    },
    {
      "cell_type": "code",
      "source": [
        "try:\n",
        "\n",
        "    !pip install pandarallel\n",
        "    from pandarallel import pandarallel\n",
        "    pandarallel.initialize(progress_bar=True,nb_workers=2)\n",
        "except Exception as e:\n",
        "    print(e)"
      ],
      "metadata": {
        "id": "lkh3uTlhYU8k"
      },
      "execution_count": null,
      "outputs": []
    },
    {
      "cell_type": "markdown",
      "source": [
        "* Generating a date column derived from 'iyear', 'imonth','iday'"
      ],
      "metadata": {
        "id": "SHn78bLiYl55"
      }
    },
    {
      "cell_type": "code",
      "source": [
        "try:\n",
        "\n",
        "    def create_date(x):\n",
        "        if(x['iyear'] != 0 and x['imonth'] != 0 and x['iday'] != 0):\n",
        "            d = '/'.join([str(x['iday']) , str(x['imonth']) , str(x['iyear'])])\n",
        "        else:\n",
        "            d= np.nan\n",
        "        return d\n",
        "    df_GTA['idate'] = df_GTA[['iyear', 'imonth','iday']].parallel_apply(create_date,axis=1) # parallel_apply to save time\n",
        "except Exception as e:\n",
        "    print(e)\n",
        "else:\n",
        "    print('Column created in Dataframe having named as idate')\n",
        "# print(df_GTA['idate'])\n",
        "\n"
      ],
      "metadata": {
        "id": "ZPOA3jD5YoZZ"
      },
      "execution_count": null,
      "outputs": []
    },
    {
      "cell_type": "code",
      "source": [
        "try:\n",
        "    df_GTA['idate'] = pd.to_datetime(df_GTA['idate'],format='%d/%m/%Y') # Changing datatype to date\n",
        "except Exception as e:\n",
        "    print(e)\n",
        "else:\n",
        "    print('Data type changed to datetime format.')\n",
        "# df_GTA['imonth'].value_counts()"
      ],
      "metadata": {
        "id": "GlR1rUJ6Y0Ya"
      },
      "execution_count": null,
      "outputs": []
    },
    {
      "cell_type": "code",
      "source": [
        "try:\n",
        "    print('Datatype of idate: ',df_GTA['idate'].dtype) #on a big endian machine, np.dtype('datetime64[ns]') would equal np.dtype('>M8[ns]')\n",
        "    print('Total null values in idate: ',df_GTA['idate'].isnull().sum())\n",
        "except Exception as e:\n",
        "    print(e)"
      ],
      "metadata": {
        "id": "2WXkeNYNY2EG"
      },
      "execution_count": null,
      "outputs": []
    },
    {
      "cell_type": "code",
      "source": [
        "print(df_GTA[df_GTA['idate'].isnull()].head(20).to_string())"
      ],
      "metadata": {
        "id": "9pHHnsldY8fQ"
      },
      "execution_count": null,
      "outputs": []
    },
    {
      "cell_type": "markdown",
      "source": [
        "* By above data it is cleared that day or month are unknown, maximum cases are related to government employess. So we take decision to not to drop and fill missing values"
      ],
      "metadata": {
        "id": "rO_YhGX1ZC5p"
      }
    },
    {
      "cell_type": "markdown",
      "source": [
        "\n",
        "\n",
        "*  Analyzing and manipulating 'City' because it has null values and deferent datatype\n",
        "\n"
      ],
      "metadata": {
        "id": "jj8XycqN6xuX"
      }
    },
    {
      "cell_type": "markdown",
      "source": [
        "### Data Wrangling Code"
      ],
      "metadata": {
        "id": "bKJF3rekwFvQ"
      }
    },
    {
      "cell_type": "code",
      "source": [
        "# Write your code to make your dataset analysis ready.\n",
        "# Analyzing 'city'\n",
        "try:\n",
        "    null_valuecount_to_fill = df_GTA['city'].isnull().sum() # counting null values\n",
        "    print('Total Null values in city:', null_valuecount_to_fill)\n",
        "    df_GTA['city'] = df_GTA['city'].fillna('N/A') # filled and assigned to the original dataset\n",
        "    print(df_GTA['city'].dtype) #printing datatype\n",
        "except Exception as e:\n",
        "    print(e)\n",
        "else:\n",
        "    print('Missing values filled with N/A. Datatype is okay to proceed with City column.')"
      ],
      "metadata": {
        "id": "4haBDbTqCXYM"
      },
      "execution_count": null,
      "outputs": []
    },
    {
      "cell_type": "markdown",
      "source": [
        "\n",
        "\n",
        "* Analyzing and manipulating 'latitude' because it has null values and deferent datatype\n",
        "\n"
      ],
      "metadata": {
        "id": "qZrEAIyeJqIy"
      }
    },
    {
      "cell_type": "code",
      "source": [
        "# Write your code to make your dataset analysis ready.\n",
        "# Analyzing 'latitude'\n",
        "try:\n",
        "    null_valuecount_to_fill = df_GTA['latitude'].isnull().sum() # counting null values\n",
        "    print('Total Null values in latitude:', null_valuecount_to_fill)\n",
        "    df_GTA['latitude'] = df_GTA['latitude'].fillna(-200) # filled and assigned to the original dataset\n",
        "    print(df_GTA['latitude'].dtype) #printing datatype\n",
        "except Exception as e:\n",
        "    print(e)\n",
        "else:\n",
        "    print('Missing values filled with -200. Datatype is okay to proceed with latitude column.')"
      ],
      "metadata": {
        "id": "wk-9a2fpoLcV"
      },
      "execution_count": null,
      "outputs": []
    },
    {
      "cell_type": "markdown",
      "source": [
        "\n",
        "\n",
        "* Analyzing and manipulating 'longitude' because it has null values and deferent datatype\n",
        "\n"
      ],
      "metadata": {
        "id": "THg1OGprJx0a"
      }
    },
    {
      "cell_type": "code",
      "source": [
        "# Analyzing longitude\n",
        "try:\n",
        "    null_valuecount_to_fill = df_GTA['longitude'].isnull().sum() # counting null values\n",
        "    print('Total Null values in longitude:', null_valuecount_to_fill)\n",
        "    df_GTA['longitude'] = df_GTA['longitude'].fillna(-200) # filled and assigned to the original dataset\n",
        "    print(df_GTA['longitude'].dtype) #printing datatype\n",
        "except Exception as e:\n",
        "    print(e)\n",
        "else:\n",
        "    print('Missing values filled with -200. Datatype is okay to proceed with longitude column.')"
      ],
      "metadata": {
        "id": "innYVKbGIhmU"
      },
      "execution_count": null,
      "outputs": []
    },
    {
      "cell_type": "markdown",
      "source": [
        "\n",
        "\n",
        "* Analyzing and manipulating 'doubtterr' because it has null values and deferent datatype\n",
        "\n"
      ],
      "metadata": {
        "id": "GvDU2e7HJ_Ht"
      }
    },
    {
      "cell_type": "code",
      "source": [
        "# Write your code to make your dataset analysis ready.\n",
        "#Analyzing 'doubterr'\n",
        "try:\n",
        "    null_valuecount_to_fill = df_GTA['doubtterr'].isnull().sum() # COunting null values\n",
        "    df_GTA['doubtterr'] = df_GTA['doubtterr'].fillna(-200) # filled and assigned to the original dataset\n",
        "    df_GTA['doubtterr'] = df_GTA['doubtterr'].astype(int) #astype used to cange datatype as nemeric\n",
        "    print(df_GTA['doubtterr'].dtype) #printing datatype\n",
        "except Exception as e:\n",
        "    print(e)\n",
        "else:\n",
        "    print('Missing values filled with -200. doubtterr column\\'s Datatype is changed to int type .')"
      ],
      "metadata": {
        "id": "-4kxdVAzHCQX"
      },
      "execution_count": null,
      "outputs": []
    },
    {
      "cell_type": "markdown",
      "source": [
        "\n",
        "\n",
        "* Analyzing and manupulating 'nkill' because it has null values and different datatype\n",
        "\n"
      ],
      "metadata": {
        "id": "-o5GBpV7_Uk2"
      }
    },
    {
      "cell_type": "code",
      "source": [
        "#Analyzing 'nkill'\n",
        "try:\n",
        "\n",
        "    null_valuecount_to_fill = df_GTA['nkill'].isnull().sum() # COunting null values\n",
        "    print('Total Null values in nkill: ',null_valuecount_to_fill)\n",
        "    df_GTA['nkill'] = df_GTA['nkill'].fillna(-200) # filled and assigned to the original dataset\n",
        "    df_GTA['nkill'] = df_GTA['nkill'].astype(int) #astype used to cange datatype as nemeric\n",
        "    print(df_GTA['nkill'].dtype) #printing datatype\n",
        "except Exception as e:\n",
        "    print(e)\n",
        "else:\n",
        "    print('Missing values filled with -200. nkill column\\'s Datatype is changed to int type .')\n"
      ],
      "metadata": {
        "id": "lJm8J4Nq_wP9"
      },
      "execution_count": null,
      "outputs": []
    },
    {
      "cell_type": "markdown",
      "source": [
        "\n",
        "\n",
        "* Analyzing and manipulating 'nkillus' because it has null values and deferent datatype\n",
        "\n"
      ],
      "metadata": {
        "id": "QaYD0lLGKNA4"
      }
    },
    {
      "cell_type": "code",
      "source": [
        "#Analyzing 'nkillus'\n",
        "try:\n",
        "    null_valuecount_to_fill = df_GTA['nkillus'].isnull().sum() # COunting null values\n",
        "    print('Total Null values in nkillus: ',null_valuecount_to_fill)\n",
        "    df_GTA['nkillus'] = df_GTA['nkillus'].fillna(-200) # filled and assigned to the original dataset\n",
        "    df_GTA['nkillus'] = df_GTA['nkillus'].astype(int) #astype used to cange datatype as nemeric\n",
        "    print(df_GTA['nkillus'].dtype) #printing datatype\n",
        "except Exception as e:\n",
        "    print(e)\n",
        "else:\n",
        "    print('Missing values filled with -200. nkillus column\\'s Datatype is changed to int type .')"
      ],
      "metadata": {
        "id": "FKLQcR1CJHaZ"
      },
      "execution_count": null,
      "outputs": []
    },
    {
      "cell_type": "markdown",
      "source": [
        "* Analyzing and manipulating 'nwound' because it has null values and different datatype."
      ],
      "metadata": {
        "id": "jkAUqo8-XJW_"
      }
    },
    {
      "cell_type": "code",
      "source": [
        "#Analyzing 'nkillter'\n",
        "try:\n",
        "    null_valuecount_to_fill = df_GTA['nkillter'].isnull().sum() # COunting null values\n",
        "    print('Total Null values in nkillter: ',null_valuecount_to_fill)\n",
        "    df_GTA['nkillter'] = df_GTA['nkillter'].fillna(-200) # filled and assigned to the original dataset\n",
        "    df_GTA['nkillter'] = df_GTA['nkillter'].astype(int) #astype used to cange datatype as nemeric\n",
        "    print(df_GTA['nkillter'].dtype) #printing datatype\n",
        "except Exception as e:\n",
        "    print(e)\n",
        "else:\n",
        "    print('Missing values filled with -200. nkillter column\\'s Datatype is changed to int type .')"
      ],
      "metadata": {
        "id": "fJuix1gjVfDN"
      },
      "execution_count": null,
      "outputs": []
    },
    {
      "cell_type": "markdown",
      "source": [
        "* Analyzing and manipulating 'nwoundus' because it has null values and different datatype."
      ],
      "metadata": {
        "id": "lBuDEuKxXQyj"
      }
    },
    {
      "cell_type": "code",
      "source": [
        "# Write your code to make your dataset analysis ready.\n",
        "#Analyzing 'nwound'\n",
        "try:\n",
        "    null_valuecount_to_fill = df_GTA['nwound'].isnull().sum() # Counting null values\n",
        "    print('Total Null values in nwound: ',null_valuecount_to_fill)\n",
        "    df_GTA['nwound'] = df_GTA['nwound'].fillna(-200) # filled and assigned to the original dataset\n",
        "    df_GTA['nwound'] = df_GTA['nwound'].astype(int) #astype used to change datatype as numeric\n",
        "    print(df_GTA['nwound'].dtype) #printing datatype\n",
        "except Exception as e:\n",
        "    print(e)\n",
        "else:\n",
        "    print('Missing values filled with -200. nwound column\\'s Datatype is changed to int type .')"
      ],
      "metadata": {
        "id": "0tsxP1W0Vj3m"
      },
      "execution_count": null,
      "outputs": []
    },
    {
      "cell_type": "markdown",
      "source": [
        "* Analyzing and manipulating 'nwoundte' because it has null values and different datatype."
      ],
      "metadata": {
        "id": "tSoLREM5Xa1c"
      }
    },
    {
      "cell_type": "code",
      "source": [
        "# Write your code to make your dataset analysis ready.\n",
        "#Analyzing 'nwoundus'\n",
        "try:\n",
        "    null_valuecount_to_fill = df_GTA['nwoundus'].isnull().sum() # Counting null values\n",
        "    print('Total Null values in nwoundus: ',null_valuecount_to_fill)\n",
        "    df_GTA['nwoundus'] = df_GTA['nwoundus'].fillna(-200) # filled and assigned to the original dataset\n",
        "    df_GTA['nwoundus'] = df_GTA['nwoundus'].astype(int) #astype used to change datatype as numeric\n",
        "    print(df_GTA['nwoundus'].dtype) #printing datatype\n",
        "except Exception as e:\n",
        "    print(e)\n",
        "else:\n",
        "    print('Missing values filled with -200. nwoundus column\\'s Datatype is changed to int type .')"
      ],
      "metadata": {
        "id": "c6qsSPbxV-jA"
      },
      "execution_count": null,
      "outputs": []
    },
    {
      "cell_type": "markdown",
      "source": [
        "* Analyzing and manipulating 'propextent' because it has null values and different datatype."
      ],
      "metadata": {
        "id": "E39BnowoXhYt"
      }
    },
    {
      "cell_type": "code",
      "source": [
        "# Write your code to make your dataset analysis ready.\n",
        "#Analyzing 'nwoundte'\n",
        "try:\n",
        "    null_valuecount_to_fill = df_GTA['nwoundte'].isnull().sum() # Counting null values\n",
        "    print('Total Null values in nwoundte: ',null_valuecount_to_fill)\n",
        "    df_GTA['nwoundte'] = df_GTA['nwoundte'].fillna(-200) # filled and assigned to the original dataset\n",
        "    df_GTA['nwoundte'] = df_GTA['nwoundte'].astype(int) #astype used to change datatype as numeric\n",
        "    print(df_GTA['nwoundte'].dtype) #printing datatype\n",
        "except Exception as e:\n",
        "    print(e)\n",
        "else:\n",
        "    print('Missing values filled with -200.  nwoundte column\\'s Datatype is changed to int type.')"
      ],
      "metadata": {
        "id": "BXu2xHUDWHJA"
      },
      "execution_count": null,
      "outputs": []
    },
    {
      "cell_type": "markdown",
      "source": [
        "* Analyzing and manipulating 'ishostkid' because it has null values and different datatype."
      ],
      "metadata": {
        "id": "ymUdfWVuXpXs"
      }
    },
    {
      "cell_type": "code",
      "source": [
        "# Write your code to make your dataset analysis ready.\n",
        "#Analyzing 'propextent'\n",
        "try:\n",
        "    null_valuecount_to_fill = df_GTA['propextent'].isnull().sum() # Counting null values\n",
        "    print('Total Null values in propextent: ',null_valuecount_to_fill)\n",
        "    df_GTA['propextent'] = df_GTA['propextent'].fillna(-200) # filled and assigned to the original dataset\n",
        "    df_GTA['propextent'] = df_GTA['propextent'].astype(int) #astype used to change datatype as numeric\n",
        "    print(df_GTA['propextent'].dtype) #printing datatype\n",
        "except Exception as e:\n",
        "    print(e)\n",
        "else:\n",
        "    print('Missing values filled with -200.  propextent column\\'s Datatype is changed to int type.')"
      ],
      "metadata": {
        "id": "54-znfi4XrRa"
      },
      "execution_count": null,
      "outputs": []
    },
    {
      "cell_type": "markdown",
      "source": [
        "* Analyzing and manipulating 'propextent_txt' because it has null values and different datatype."
      ],
      "metadata": {
        "id": "g8xgzxfXB_Wx"
      }
    },
    {
      "cell_type": "code",
      "source": [
        "# Write your code to make your dataset analysis ready.\n",
        "# Analyzing 'propextent_txt'\n",
        "try:\n",
        "    null_valuecount_to_fill = df_GTA['propextent_txt'].isnull().sum() # counting null values\n",
        "    print('Total Null values in propextent_txt:', null_valuecount_to_fill)\n",
        "    df_GTA['propextent_txt'] = df_GTA['propextent_txt'].fillna('N/A') # filled and assigned to the original dataset\n",
        "    print(df_GTA['propextent_txt'].dtype) #printing datatype\n",
        "except Exception as e:\n",
        "    print(e)\n",
        "else:\n",
        "    print('Missing values filled with N/A. No need to change datatype of propextent_txt')"
      ],
      "metadata": {
        "id": "emOhUyy2BzuD"
      },
      "execution_count": null,
      "outputs": []
    },
    {
      "cell_type": "markdown",
      "source": [
        "* Analyzing and manipulating 'ishostkid' because it has null values and different datatype."
      ],
      "metadata": {
        "id": "A02lDr6UCCUD"
      }
    },
    {
      "cell_type": "code",
      "source": [
        "# Write your code to make your dataset analysis ready.\n",
        "#Analyzing 'ishostkid'\n",
        "try:\n",
        "    null_valuecount_to_fill = df_GTA['ishostkid'].isnull().sum() # Counting null values\n",
        "    print('Total Null values in ishostkid: ',null_valuecount_to_fill)\n",
        "    df_GTA['ishostkid'] = df_GTA['ishostkid'].fillna(-200) # filled and assigned to the original dataset\n",
        "    df_GTA['ishostkid'] = df_GTA['ishostkid'].astype(int) #astype used to change datatype as numeric\n",
        "    print(df_GTA['ishostkid'].dtype) #printing datatype\n",
        "except Exception as e:\n",
        "    print(e)\n",
        "else:\n",
        "    print('Missing values filled with -200.  ishostkid column\\'s Datatype is changed to int type.')"
      ],
      "metadata": {
        "id": "Oj31zT1NCItf"
      },
      "execution_count": null,
      "outputs": []
    },
    {
      "cell_type": "markdown",
      "source": [
        "# Note: We replaced -200 in null values of numeric data columns and 'N/A' to text type columns to easily distinguish data what they didn't provide. We will operate by filtering these values(by ignoring rows having -200 and 'N/A')"
      ],
      "metadata": {
        "id": "HhRt43keZVzh"
      }
    },
    {
      "cell_type": "markdown",
      "source": [
        "### What all manipulations have you done and insights you found?"
      ],
      "metadata": {
        "id": "MSa1f5Uengrz"
      }
    },
    {
      "cell_type": "markdown",
      "source": [
        "\n",
        "\n",
        "* iyear  : By above founded results these columns dont need to manipulate.\n",
        "\n",
        "* imonth : By above founded results these columns dont need to manipulate.\n",
        "\n",
        "\n",
        "* iday   :   By above founded results these columns dont need to manipulate.\n",
        "\n",
        "\n",
        "* country_txt : By above founded results these columns dont need to manipulate.\n",
        "\n",
        "* region_txt  : By above founded results these columns dont need to manipulate.\n",
        "\n",
        "* city  : We filled missing values as Unknown. And changed datatype to string.\n",
        "\n",
        "\n",
        "* latitude : We filled missing values as N/A. And changed datatype to string.\n",
        "\n",
        "\n",
        "* longitude : We filled missing values as N/A. And changed datatype to string.     \n",
        "\n"
      ],
      "metadata": {
        "id": "oodn6sn1KWJi"
      }
    },
    {
      "cell_type": "markdown",
      "source": [
        "\n",
        "\n",
        "* crit1, crit1, crit1 : By above founded results these columns dont need to manipulate.\n",
        "*doubterr : We filled missing values as -9. And changed datatype to int64.\n",
        "* success: By above founded results this column dont need to manipulate.\n",
        "*suicide : By above founded results this column dont need to manipulate.\n",
        "*attacktype1_txt : dont need to manipulate.\n",
        "*targtype1_txt : Don't need to manipulate.\n",
        "*individual : Don't need to manipulate.\n",
        "*weaptype1_txt : Don't need to manipulate.\n",
        "* nkill : We filled missing values as 0. And changed datatype to int64.\n",
        "* nwound : We filled missing values as 0 and changed datatype to int64.\n",
        "* nwoundus : We filled missing values as 0 and changed datatype to int64.\n",
        "* nwoundte : We filled missing values as 0 and changed datatype to int64.\n",
        "* property : No need to manipulate.\n",
        "* propextent : We filled missing values as 0 and changed datatype to int64.\n",
        "* propextent_txt : We filled missing values as Unknown and changed datatype to string.\n",
        "* ishostkid : We filled missing values as -9 and changed datatype to int64.\n",
        "* INT_LOG : No need to manipulate.\n",
        "* INT_IDEO : No need to manipulate.\n",
        "* INT_MISC : No need to manipulate.\n",
        "* INT_ANY : No need to manipulate.\n",
        "\n",
        "\n",
        "\n"
      ],
      "metadata": {
        "id": "yQIU0YsRC9ga"
      }
    },
    {
      "cell_type": "markdown",
      "source": [
        "Answer Here."
      ],
      "metadata": {
        "id": "LbyXE7I1olp8"
      }
    },
    {
      "cell_type": "markdown",
      "source": [
        "## ***4. Data Vizualization, Storytelling & Experimenting with charts : Understand the relationships between variables***"
      ],
      "metadata": {
        "id": "GF8Ens_Soomf"
      }
    },
    {
      "cell_type": "markdown",
      "source": [
        "#### Chart - 1- Countplot"
      ],
      "metadata": {
        "id": "0wOQAZs5pc--"
      }
    },
    {
      "cell_type": "code",
      "source": [
        "# Chart - 1 visualization code\n",
        "fig= plt.subplots(figsize=(10, 7))\n",
        "ax = sbn.countplot(x=df_GTA[\"iyear\"])\n",
        "for p in ax.patches:\n",
        "    ax.annotate(format(p.get_height(), '.2f'), (p.get_x() + p.get_width() / 2., p.get_height()),  ha = 'center', va = 'center', xytext = (0, 10), textcoords = 'offset points',rotation=90)\n",
        "plt.xlabel('Year')\n",
        "plt.title('Count plot incidents each year')\n",
        "plt.xticks(rotation=90)\n",
        "plt.show()"
      ],
      "metadata": {
        "id": "7v_ESjsspbW7"
      },
      "execution_count": null,
      "outputs": []
    },
    {
      "cell_type": "markdown",
      "source": [
        "##### 1. Why did you pick the specific chart?"
      ],
      "metadata": {
        "id": "K5QZ13OEpz2H"
      }
    },
    {
      "cell_type": "markdown",
      "source": [
        "We choose countplot to show number of attack incidents with respect to years. It is used to display Univariate Analysis.\n",
        "\n"
      ],
      "metadata": {
        "id": "XESiWehPqBRc"
      }
    },
    {
      "cell_type": "markdown",
      "source": [
        "##### 2. What is/are the insight(s) found from the chart?"
      ],
      "metadata": {
        "id": "lQ7QKXXCp7Bj"
      }
    },
    {
      "cell_type": "markdown",
      "source": [
        "By above chart we observed In the year 2014 the incidends are in peaks followed by 2015, 2016,2013,2017,2012. The lowest incident recorded in year 1971 followed by 1973,1972,1974."
      ],
      "metadata": {
        "id": "C_j1G7yiqdRP"
      }
    },
    {
      "cell_type": "markdown",
      "source": [
        "##### 3. Will the gained insights help creating a positive business impact?\n",
        "Are there any insights that lead to negative growth? Justify with specific reason."
      ],
      "metadata": {
        "id": "448CDAPjqfQr"
      }
    },
    {
      "cell_type": "markdown",
      "source": [
        "The data shown us incidents are in -ve growth which is good."
      ],
      "metadata": {
        "id": "3cspy4FjqxJW"
      }
    },
    {
      "cell_type": "markdown",
      "source": [
        "#### Chart - 2-Countplot"
      ],
      "metadata": {
        "id": "KSlN3yHqYklG"
      }
    },
    {
      "cell_type": "code",
      "source": [
        "# Chart - 2 visualization code\n",
        "fig= plt.subplots(figsize=(7, 5))\n",
        "ax = sbn.countplot(data =df_GTA, x=df_GTA[\"country_txt\"],order=df_GTA.country_txt.value_counts().iloc[:10].index) # used seaborn countplot\n",
        "# Loop to give annotation\n",
        "for p in ax.patches:\n",
        "    ax.annotate(format(p.get_height(), '.0f'), (p.get_x() + p.get_width() / 2., p.get_height()),  ha = 'center', va = 'center', xytext = (0, 10), textcoords = 'offset points',rotation=90)\n",
        "plt.xlabel('Country')\n",
        "plt.title('Top 10 Country having most incidents')\n",
        "plt.xticks(rotation=45)\n",
        "plt.show()"
      ],
      "metadata": {
        "id": "R4YgtaqtYklH"
      },
      "execution_count": null,
      "outputs": []
    },
    {
      "cell_type": "markdown",
      "source": [
        "##### 1. Why did you pick the specific chart?"
      ],
      "metadata": {
        "id": "t6dVpIINYklI"
      }
    },
    {
      "cell_type": "markdown",
      "source": [
        "We chose Countplot to show Univariate Analysis."
      ],
      "metadata": {
        "id": "5aaW0BYyYklI"
      }
    },
    {
      "cell_type": "markdown",
      "source": [
        "##### 2. What is/are the insight(s) found from the chart?"
      ],
      "metadata": {
        "id": "ijmpgYnKYklI"
      }
    },
    {
      "cell_type": "markdown",
      "source": [
        "Chart shows the Top 10 country which having most incident takes place till 2017. Iraq is in the top, followed as Pakistan, Afganistan, India, Colombia, so on..."
      ],
      "metadata": {
        "id": "PSx9atu2YklI"
      }
    },
    {
      "cell_type": "markdown",
      "source": [
        "##### 3. Will the gained insights help creating a positive business impact?\n",
        "Are there any insights that lead to negative growth? Justify with specific reason."
      ],
      "metadata": {
        "id": "-JiQyfWJYklI"
      }
    },
    {
      "cell_type": "markdown",
      "source": [
        "The chart shows, Contries with negetive growth. Each counties getting lower incident count as we go from left to right."
      ],
      "metadata": {
        "id": "BcBbebzrYklV"
      }
    },
    {
      "cell_type": "markdown",
      "source": [
        "#### Chart - 3-Countplot"
      ],
      "metadata": {
        "id": "EM7whBJCYoAo"
      }
    },
    {
      "cell_type": "code",
      "source": [
        "# Chart - 3 visualization code\n",
        "fig= plt.subplots(figsize=(7, 5))\n",
        "ax = sbn.countplot(data =df_GTA, x=df_GTA[\"country_txt\"],order=df_GTA.country_txt.value_counts().iloc[:-21:-1].index)\n",
        "for p in ax.patches:\n",
        "    ax.annotate(format(p.get_height(), '.0f'), (p.get_x() + p.get_width() / 2., p.get_height()),  ha = 'center', va = 'center', xytext = (0, 10), textcoords = 'offset points',rotation=90)\n",
        "plt.xlabel('Country')\n",
        "plt.title('Top 20 Country having least incidents')\n",
        "plt.xticks(rotation=90)\n",
        "plt.show()"
      ],
      "metadata": {
        "id": "t6GMdE67YoAp"
      },
      "execution_count": null,
      "outputs": []
    },
    {
      "cell_type": "markdown",
      "source": [
        "##### 1. Why did you pick the specific chart?"
      ],
      "metadata": {
        "id": "fge-S5ZAYoAp"
      }
    },
    {
      "cell_type": "markdown",
      "source": [
        "\n",
        "We choose countplot to show number of attack incidents with respect to Countries. It is used to display Univariate Analysis."
      ],
      "metadata": {
        "id": "5dBItgRVYoAp"
      }
    },
    {
      "cell_type": "markdown",
      "source": [
        "##### 2. What is/are the insight(s) found from the chart?"
      ],
      "metadata": {
        "id": "85gYPyotYoAp"
      }
    },
    {
      "cell_type": "markdown",
      "source": [
        "Chart shows the Top 10 country which having least incident takes place till 2017. Antigua and Barbuda is in the top, followed as Andorra, Sout Vietnam, Wallis and Futuna, International, so on..."
      ],
      "metadata": {
        "id": "4jstXR6OYoAp"
      }
    },
    {
      "cell_type": "markdown",
      "source": [
        "##### 3. Will the gained insights help creating a positive business impact?\n",
        "Are there any insights that lead to negative growth? Justify with specific reason."
      ],
      "metadata": {
        "id": "RoGjAbkUYoAp"
      }
    },
    {
      "cell_type": "markdown",
      "source": [
        "The chart shows, Countries with negetive growth with respect to number of attacks are in increasing order by country. Each countries getting higher incident count as we go from left to right."
      ],
      "metadata": {
        "id": "zfJ8IqMcYoAp"
      }
    },
    {
      "cell_type": "markdown",
      "source": [
        "#### Chart - 4"
      ],
      "metadata": {
        "id": "4Of9eVA-YrdM"
      }
    },
    {
      "cell_type": "code",
      "source": [
        "# Chart - 4 visualization code\n",
        "rslt = df_GTA[df_GTA[\"city\"] != 'Unknown'] # Filtering Unknown data\n",
        "fig= plt.subplots(figsize=(7, 7))\n",
        "ax = sbn.countplot(data =rslt, x=rslt[\"city\"],order=rslt.city.value_counts().iloc[:20].index)\n",
        "for p in ax.patches:\n",
        "    ax.annotate(format(p.get_height(), '.0f'), (p.get_x() + p.get_width() / 2., p.get_height()),  ha = 'center', va = 'center', xytext = (0, 10), textcoords = 'offset points',rotation=90)\n",
        "plt.xlabel('City')\n",
        "plt.title('Top 20 Cities having most incidents')\n",
        "plt.xticks(rotation=90)\n",
        "plt.show()"
      ],
      "metadata": {
        "id": "irlUoxc8YrdO"
      },
      "execution_count": null,
      "outputs": []
    },
    {
      "cell_type": "markdown",
      "source": [
        "##### 1. Why did you pick the specific chart?"
      ],
      "metadata": {
        "id": "iky9q4vBYrdO"
      }
    },
    {
      "cell_type": "markdown",
      "source": [
        "We choose countplot to show number of attack incidents with respect to cities. It is used to display Univariate Analysis."
      ],
      "metadata": {
        "id": "aJRCwT6DYrdO"
      }
    },
    {
      "cell_type": "markdown",
      "source": [
        "##### 2. What is/are the insight(s) found from the chart?"
      ],
      "metadata": {
        "id": "F6T5p64dYrdO"
      }
    },
    {
      "cell_type": "markdown",
      "source": [
        "The chart shows, Cities with negetive growth (incident count wise). Each city listed getting lower incident count as we go from left to right"
      ],
      "metadata": {
        "id": "Xx8WAJvtYrdO"
      }
    },
    {
      "cell_type": "markdown",
      "source": [
        "##### 3. Will the gained insights help creating a positive business impact?\n",
        "Are there any insights that lead to negative growth? Justify with specific reason."
      ],
      "metadata": {
        "id": "y-Ehk30pYrdP"
      }
    },
    {
      "cell_type": "markdown",
      "source": [
        "The chart shows, Cites with negetive growth with respect to number of attacks are in decreasing order by Cities. Each Cities getting lower incident count as we go from left to right. This isight also will helpfull to reduce terrerism activity.\n",
        "\n"
      ],
      "metadata": {
        "id": "jLNxxz7MYrdP"
      }
    },
    {
      "cell_type": "markdown",
      "source": [
        "#### Chart - 5-Countplot"
      ],
      "metadata": {
        "id": "bamQiAODYuh1"
      }
    },
    {
      "cell_type": "code",
      "source": [
        "# Chart - 5 visualization code\n",
        "rslt = df_GTA[df_GTA[\"region_txt\"] != 'Unknown']\n",
        "fig= plt.subplots(figsize=(7, 7))\n",
        "ax = sbn.countplot(data =rslt, x=rslt[\"region_txt\"],order=rslt.region_txt.value_counts().iloc[:5].index)\n",
        "for p in ax.patches:\n",
        "    ax.annotate(format(p.get_height(), '.0f'), (p.get_x() + p.get_width() / 2., p.get_height()),  ha = 'center', va = 'center', xytext = (0, 10), textcoords = 'offset points',rotation=90)\n",
        "plt.xlabel('Region')\n",
        "plt.title('Top 5 Region having most incidents')\n",
        "plt.xticks(rotation=90)\n",
        "plt.show()"
      ],
      "metadata": {
        "id": "TIJwrbroYuh3"
      },
      "execution_count": null,
      "outputs": []
    },
    {
      "cell_type": "markdown",
      "source": [
        "##### 1. Why did you pick the specific chart?"
      ],
      "metadata": {
        "id": "QHF8YVU7Yuh3"
      }
    },
    {
      "cell_type": "markdown",
      "source": [
        "We choose countplot to show number of attack incidents with respect to regions. It is used to display Univariate Analysis.\n",
        "\n"
      ],
      "metadata": {
        "id": "dcxuIMRPYuh3"
      }
    },
    {
      "cell_type": "markdown",
      "source": [
        "##### 2. What is/are the insight(s) found from the chart?"
      ],
      "metadata": {
        "id": "GwzvFGzlYuh3"
      }
    },
    {
      "cell_type": "markdown",
      "source": [
        "Top regions having attack incidents are Middle East and North Africa folowed by South Africa, South America, Sub-Saharan Africa, Western Europe.\n",
        "\n"
      ],
      "metadata": {
        "id": "uyqkiB8YYuh3"
      }
    },
    {
      "cell_type": "markdown",
      "source": [
        "##### 3. Will the gained insights help creating a positive business impact?\n",
        "Are there any insights that lead to negative growth? Justify with specific reason."
      ],
      "metadata": {
        "id": "qYpmQ266Yuh3"
      }
    },
    {
      "cell_type": "markdown",
      "source": [
        "The chart shows, Regions with negetive growth with respect to number of attacks are in decreasing order by Region. Each Region getting lower incident count as we go from left to right. This isight also will helpfull to reduce terrerism activity."
      ],
      "metadata": {
        "id": "_WtzZ_hCYuh4"
      }
    },
    {
      "cell_type": "markdown",
      "source": [
        "#### Chart - 6-Countplot"
      ],
      "metadata": {
        "id": "OH-pJp9IphqM"
      }
    },
    {
      "cell_type": "code",
      "source": [
        "# Chart - 6 visualization code\n",
        "success_count = df_GTA['success'].count()\n",
        "ax,fig= plt.subplots(figsize=(5,5))\n",
        "ax = sbn.countplot(data=df_GTA,x='success')\n",
        "plt.title('Success Rate of Incidents')\n",
        "plt.xlabel('Success Rate')\n",
        "for p in ax.patches:\n",
        "    # ax.annotate(format(p.get_height(), '.2f'), (p.get_x() + p.get_width() / 2., p.get_height()),  ha = 'center', va = 'center', xytext = (0, 10), textcoords = 'offset points',rotation=90)\n",
        "    ax.annotate(format((p.get_height()/success_count)*100, '.2f')+'%', (p.get_x() + p.get_width() / 2., p.get_height()),  ha = 'center', va = 'center', xytext = (0, 10), textcoords = 'offset points')\n"
      ],
      "metadata": {
        "id": "kuRf4wtuphqN"
      },
      "execution_count": null,
      "outputs": []
    },
    {
      "cell_type": "markdown",
      "source": [
        "##### 1. Why did you pick the specific chart?"
      ],
      "metadata": {
        "id": "bbFf2-_FphqN"
      }
    },
    {
      "cell_type": "markdown",
      "source": [
        "We choose countplot to show Success percentage of attack incidents with respect to total data provided from 1976 to 2017. It is used to display Univariate Analysis."
      ],
      "metadata": {
        "id": "loh7H2nzphqN"
      }
    },
    {
      "cell_type": "markdown",
      "source": [
        "##### 2. What is/are the insight(s) found from the chart?"
      ],
      "metadata": {
        "id": "_ouA3fa0phqN"
      }
    },
    {
      "cell_type": "markdown",
      "source": [
        "The chart shows Success rate of attack. It clears that 89.96 % of attacks are success in damaging the targets."
      ],
      "metadata": {
        "id": "VECbqPI7phqN"
      }
    },
    {
      "cell_type": "markdown",
      "source": [
        "##### 3. Will the gained insights help creating a positive business impact?\n",
        "Are there any insights that lead to negative growth? Justify with specific reason."
      ],
      "metadata": {
        "id": "Seke61FWphqN"
      }
    },
    {
      "cell_type": "markdown",
      "source": [
        "This insight leads to negetive growth in the sense of protecting peoples and properties by government rules and policies of criminal activity."
      ],
      "metadata": {
        "id": "DW4_bGpfphqN"
      }
    },
    {
      "cell_type": "markdown",
      "source": [
        "#### Chart - 7-Line plot"
      ],
      "metadata": {
        "id": "PIIx-8_IphqN"
      }
    },
    {
      "cell_type": "code",
      "source": [
        "# Chart - 7 visualization code\n",
        "yearly_attacks_region = df_GTA.groupby(['iyear', 'region_txt']).agg(counts_region_txt=('region_txt','count'))\n",
        "fig = plt.subplots()\n",
        "ax = sbn.lineplot(data = yearly_attacks_region,x='iyear',hue='region_txt',y='counts_region_txt')\n",
        "plt.xlabel('Years')\n",
        "plt.title('Trend of incidents in regions by yearwise ')\n",
        "plt.xticks(rotation=90)\n",
        "plt.show()"
      ],
      "metadata": {
        "id": "lqAIGUfyphqO"
      },
      "execution_count": null,
      "outputs": []
    },
    {
      "cell_type": "markdown",
      "source": [
        "##### 1. Why did you pick the specific chart?"
      ],
      "metadata": {
        "id": "t27r6nlMphqO"
      }
    },
    {
      "cell_type": "markdown",
      "source": [
        "\n",
        "We choose lineplot to show trends with respect to years and region wise. It is used to display Multivariate Analysis(with hue)"
      ],
      "metadata": {
        "id": "iv6ro40sphqO"
      }
    },
    {
      "cell_type": "markdown",
      "source": [
        "##### 2. What is/are the insight(s) found from the chart?"
      ],
      "metadata": {
        "id": "r2jJGEOYphqO"
      }
    },
    {
      "cell_type": "markdown",
      "source": [
        "Chart shows the data by year and region wise trend."
      ],
      "metadata": {
        "id": "Po6ZPi4hphqO"
      }
    },
    {
      "cell_type": "markdown",
      "source": [
        "##### 3. Will the gained insights help creating a positive business impact?\n",
        "Are there any insights that lead to negative growth? Justify with specific reason."
      ],
      "metadata": {
        "id": "b0JNsNcRphqO"
      }
    },
    {
      "cell_type": "markdown",
      "source": [
        "The chart shows positive growth in attack incicidents after year 2000. Then South Asia overtaken by Middle East and North Africa by number of attack incidents."
      ],
      "metadata": {
        "id": "xvSq8iUTphqO"
      }
    },
    {
      "cell_type": "markdown",
      "source": [
        "#### Chart - 8 - Barplot"
      ],
      "metadata": {
        "id": "BZR9WyysphqO"
      }
    },
    {
      "cell_type": "code",
      "source": [
        "# Chart - 8 visualization code\n",
        "\n",
        "top_most_incident_country = df_GTA['country_txt'].value_counts(sort=True).head(10) # Getting top 10 Country having maximum incidents\n",
        "top_most_incident_country = np.array(top_most_incident_country.index) # Storing as numpy array\n",
        "\n",
        "# Filtering Unknown attacktype for accuracy of result\n",
        "rslt = df_GTA[(df_GTA['attacktype1_txt'] != 'Unknown') & (df_GTA['country_txt'].isin(top_most_incident_country))]\n",
        "\n",
        "# Extacting data to show Counts by grouping country and attack type\n",
        "rslt = rslt.groupby(['country_txt','attacktype1_txt'],as_index=False).agg(count_attacktype1_txt=('attacktype1_txt','count')).sort_values('count_attacktype1_txt',ascending=False)\n",
        "# rslt\n",
        "fig= plt.subplots(figsize=(15,5))\n",
        "ax = sbn.barplot(data=rslt,x='country_txt',y='count_attacktype1_txt',hue='attacktype1_txt',width=1)\n",
        "plt.xlabel('Country')\n",
        "plt.ylabel('Count')\n",
        "plt.title('Bar Plot to show distrubution of attack type')\n",
        "plt.xticks(rotation=45)\n",
        "# sbn.despine(offset=10, trim=True)\n",
        "for p in ax.patches:\n",
        "    ax.annotate(format(p.get_height(),'.0f'), (p.get_x() + p.get_width() / 2., p.get_height()),  ha = 'center', va = 'center', xytext = (0, 10), textcoords = 'offset points',rotation=90)\n",
        "plt.legend(title='Attack Types')\n",
        "\n",
        "plt.show()"
      ],
      "metadata": {
        "id": "TdPTWpAVphqO"
      },
      "execution_count": null,
      "outputs": []
    },
    {
      "cell_type": "markdown",
      "source": [
        "##### 1. Why did you pick the specific chart?"
      ],
      "metadata": {
        "id": "jj7wYXLtphqO"
      }
    },
    {
      "cell_type": "markdown",
      "source": [
        "\n",
        "We chose this type of chart to show Multivariate Analysis."
      ],
      "metadata": {
        "id": "Ob8u6rCTphqO"
      }
    },
    {
      "cell_type": "markdown",
      "source": [
        "##### 2. What is/are the insight(s) found from the chart?"
      ],
      "metadata": {
        "id": "eZrbJ2SmphqO"
      }
    },
    {
      "cell_type": "markdown",
      "source": [
        "* Top 10 Contries (As we saw in earlier charts)\n",
        "* Mostly attacktype planned with Bombing / Explosion, Armed Assault, Assassination\n",
        "* Hijacking is also preffered by attackers"
      ],
      "metadata": {
        "id": "mZtgC_hjphqO"
      }
    },
    {
      "cell_type": "markdown",
      "source": [
        "##### 3. Will the gained insights help creating a positive business impact?\n",
        "Are there any insights that lead to negative growth? Justify with specific reason."
      ],
      "metadata": {
        "id": "rFu4xreNphqO"
      }
    },
    {
      "cell_type": "markdown",
      "source": [
        "This insights will very helpfull to which domain should be taken care off"
      ],
      "metadata": {
        "id": "ey_0qi68phqO"
      }
    },
    {
      "cell_type": "markdown",
      "source": [
        "#### Chart - 9 - Barplot"
      ],
      "metadata": {
        "id": "YJ55k-q6phqO"
      }
    },
    {
      "cell_type": "code",
      "source": [
        "# Chart - 9 visualization code\n",
        "# Getting top 10 regions having maximum incidents\n",
        "top_most_incident_country = df_GTA['region_txt'].value_counts(sort=True).head(10)\n",
        "top_most_incident_country = np.array(top_most_incident_country.index)\n",
        "\n",
        "# Filtering Unknown attacktype for accuracy of result having list of region\n",
        "rslt = df_GTA[(df_GTA['attacktype1_txt'] != 'Unknown') & (df_GTA['region_txt'].isin(top_most_incident_country))]\n",
        "\n",
        "# Extacting data to show Counts by grouping country and attack type\n",
        "rslt = rslt.groupby(['region_txt','attacktype1_txt'],as_index=False).agg(count_attacktype1_txt=('attacktype1_txt','count')).sort_values('count_attacktype1_txt',ascending=False)\n",
        "\n",
        "# Barplot Visualization code\n",
        "fig= plt.subplots(figsize=(15,5))\n",
        "ax = sbn.barplot(data=rslt,x='region_txt',y='count_attacktype1_txt',hue='attacktype1_txt',width=1)\n",
        "plt.xlabel('Region')\n",
        "plt.ylabel('Count')\n",
        "plt.title('Bar Plot to show distrubution of attack type Region dwise')\n",
        "plt.xticks(rotation=45)\n",
        "for p in ax.patches:\n",
        "    ax.annotate(format(p.get_height(),'.0f'), (p.get_x() + p.get_width() / 2., p.get_height()),  ha = 'center', va = 'center', xytext = (0, 10), textcoords = 'offset points',rotation=90)\n",
        "plt.legend(title='Attack Types')\n",
        "\n",
        "plt.show()"
      ],
      "metadata": {
        "id": "B2aS4O1ophqO"
      },
      "execution_count": null,
      "outputs": []
    },
    {
      "cell_type": "markdown",
      "source": [
        "##### 1. Why did you pick the specific chart?"
      ],
      "metadata": {
        "id": "gCFgpxoyphqP"
      }
    },
    {
      "cell_type": "markdown",
      "source": [
        "To show Multivariate Analysis."
      ],
      "metadata": {
        "id": "TVxDimi2phqP"
      }
    },
    {
      "cell_type": "markdown",
      "source": [
        "##### 2. What is/are the insight(s) found from the chart?"
      ],
      "metadata": {
        "id": "OVtJsKN_phqQ"
      }
    },
    {
      "cell_type": "markdown",
      "source": [
        "* Top 10 Regions (As we saw in earlier charts)\n",
        "* Mostly attacktype planned with Bombing / Explosion, Armed Assault, Assassination\n",
        "* Hijacking is also preffered by attackers"
      ],
      "metadata": {
        "id": "ngGi97qjphqQ"
      }
    },
    {
      "cell_type": "markdown",
      "source": [
        "##### 3. Will the gained insights help creating a positive business impact?\n",
        "Are there any insights that lead to negative growth? Justify with specific reason."
      ],
      "metadata": {
        "id": "lssrdh5qphqQ"
      }
    },
    {
      "cell_type": "markdown",
      "source": [
        "This insights will very helpfull to which domain should be taken care off."
      ],
      "metadata": {
        "id": "tBpY5ekJphqQ"
      }
    },
    {
      "cell_type": "markdown",
      "source": [
        "#### Chart - 10 - Barplot"
      ],
      "metadata": {
        "id": "U2RJ9gkRphqQ"
      }
    },
    {
      "cell_type": "code",
      "source": [
        "# Removing Unavailable data\n",
        "rslt = df_GTA[df_GTA['nkill'] != -200]\n",
        "# Grouping data for visualization with order\n",
        "rslt = rslt.groupby(['country_txt'],as_index=False).agg(total_no_of_nkill=('nkill','sum'))\n",
        "rslt = rslt.sort_values('total_no_of_nkill',ascending=False).head(30)\n",
        "\n",
        "# Chart - 10 visualization code\n",
        "fig= plt.subplots(figsize=(15,5))\n",
        "ax = sbn.barplot(data=rslt,x='country_txt',y='total_no_of_nkill')\n",
        "plt.xlabel('Country')\n",
        "plt.ylabel('Count')\n",
        "plt.title('Count of Total deaths in Attacks (Including terrorists and Public)')\n",
        "plt.xticks(rotation=90)\n",
        "# Annotation Code\n",
        "for p in ax.patches:\n",
        "    ax.annotate(format(p.get_height(),'.0f'), (p.get_x() + p.get_width() / 2., p.get_height()),  ha = 'center', va = 'center', xytext = (0, 10), textcoords = 'offset points',rotation=90)\n",
        "plt.show()"
      ],
      "metadata": {
        "id": "GM7a4YP4phqQ"
      },
      "execution_count": null,
      "outputs": []
    },
    {
      "cell_type": "markdown",
      "source": [
        "##### 1. Why did you pick the specific chart?"
      ],
      "metadata": {
        "id": "1M8mcRywphqQ"
      }
    },
    {
      "cell_type": "markdown",
      "source": [
        "We choose barplot to show number of attack incidents with respect to country. It is also used to display Univariate Analysis."
      ],
      "metadata": {
        "id": "8agQvks0phqQ"
      }
    },
    {
      "cell_type": "markdown",
      "source": [
        "##### 2. What is/are the insight(s) found from the chart?"
      ],
      "metadata": {
        "id": "tgIPom80phqQ"
      }
    },
    {
      "cell_type": "markdown",
      "source": [
        "\n",
        "By available dataset the insights have found that Iraq is in the top. Followed by Afganisthan, pakistan, Nigeria, India and so on."
      ],
      "metadata": {
        "id": "Qp13pnNzphqQ"
      }
    },
    {
      "cell_type": "markdown",
      "source": [
        "##### 3. Will the gained insights help creating a positive business impact?\n",
        "Are there any insights that lead to negative growth? Justify with specific reason."
      ],
      "metadata": {
        "id": "JMzcOPDDphqR"
      }
    },
    {
      "cell_type": "markdown",
      "source": [
        "\n",
        "Till now it is also cleared, That Iraq is in the top most dangerous Country."
      ],
      "metadata": {
        "id": "R4Ka1PC2phqR"
      }
    },
    {
      "cell_type": "markdown",
      "source": [
        "#### Chart - 11 -Barplot"
      ],
      "metadata": {
        "id": "x-EpHcCOp1ci"
      }
    },
    {
      "cell_type": "code",
      "source": [
        "# Chart - 11 visualization code\n",
        "rslt = df_GTA[['nkillter','iyear']]\n",
        "rslt = rslt[rslt['nkillter']!=-200]\n",
        "rslt = rslt.groupby(['iyear'],as_index=False).agg(Total_nkillter=('nkillter','sum'))\n",
        "\n",
        "fig= plt.subplots(figsize=(15,5))\n",
        "ax = sbn.barplot(data=rslt,x='iyear',y='Total_nkillter')\n",
        "plt.xlabel('Year')\n",
        "plt.ylabel('Count')\n",
        "plt.title('Number of terrorist killed (Year wise)')\n",
        "plt.xticks(rotation=90)\n",
        "# sbn.despine(offset=10, trim=True)\n",
        "for p in ax.patches:\n",
        "    ax.annotate(format(p.get_height(),'.0f'), (p.get_x() + p.get_width() / 2., p.get_height()),  ha = 'center', va = 'center', xytext = (0, 10), textcoords = 'offset points',rotation=90)\n",
        "plt.show()"
      ],
      "metadata": {
        "id": "mAQTIvtqp1cj"
      },
      "execution_count": null,
      "outputs": []
    },
    {
      "cell_type": "markdown",
      "source": [
        "##### 1. Why did you pick the specific chart?"
      ],
      "metadata": {
        "id": "X_VqEhTip1ck"
      }
    },
    {
      "cell_type": "markdown",
      "source": [
        "We choose barplot to show number of terrerist killed in attack incidents with respect to years. It is also used to display Univariate Analysis."
      ],
      "metadata": {
        "id": "-vsMzt_np1ck"
      }
    },
    {
      "cell_type": "markdown",
      "source": [
        "##### 2. What is/are the insight(s) found from the chart?"
      ],
      "metadata": {
        "id": "8zGJKyg5p1ck"
      }
    },
    {
      "cell_type": "markdown",
      "source": [
        "By chart it is clearly being observed that after 2011 the terrerist are killed by taking actions on terrerist issue."
      ],
      "metadata": {
        "id": "ZYdMsrqVp1ck"
      }
    },
    {
      "cell_type": "markdown",
      "source": [
        "##### 3. Will the gained insights help creating a positive business impact?\n",
        "Are there any insights that lead to negative growth? Justify with specific reason."
      ],
      "metadata": {
        "id": "PVzmfK_Ep1ck"
      }
    },
    {
      "cell_type": "markdown",
      "source": [
        "We found that it is now decreasing again after 2016"
      ],
      "metadata": {
        "id": "druuKYZpp1ck"
      }
    },
    {
      "cell_type": "markdown",
      "source": [
        "#### Chart - 12 - Barplot"
      ],
      "metadata": {
        "id": "n3dbpmDWp1ck"
      }
    },
    {
      "cell_type": "code",
      "source": [
        "# Chart - 12 visualization code\n",
        "rslt = df_GTA[['nkill','iyear']]\n",
        "rslt = rslt[rslt['nkill']!=-200]\n",
        "rslt = rslt.groupby(['iyear'],as_index=False).agg(Total_nkill=('nkill','sum'))\n",
        "\n",
        "fig= plt.subplots(figsize=(15,5))\n",
        "ax = sbn.barplot(data=rslt,x='iyear',y='Total_nkill')\n",
        "plt.xlabel('Year')\n",
        "plt.ylabel('Count')\n",
        "plt.title('Number of Fatalities (Year wise includes all victims and attackers)')\n",
        "plt.xticks(rotation=90)\n",
        "# sbn.despine(offset=10, trim=True)\n",
        "for p in ax.patches:\n",
        "    ax.annotate(format(p.get_height(),'.0f'), (p.get_x() + p.get_width() / 2., p.get_height()),  ha = 'center', va = 'center', xytext = (0, 10), textcoords = 'offset points',rotation=90)\n",
        "plt.show()"
      ],
      "metadata": {
        "id": "bwevp1tKp1ck"
      },
      "execution_count": null,
      "outputs": []
    },
    {
      "cell_type": "markdown",
      "source": [
        "##### 1. Why did you pick the specific chart?"
      ],
      "metadata": {
        "id": "ylSl6qgtp1ck"
      }
    },
    {
      "cell_type": "markdown",
      "source": [
        "We choose barplot to show number of terrerist killed in attack incidents with respect to years. It is also used to display Univariate Analysis.\n",
        "\n"
      ],
      "metadata": {
        "id": "m2xqNkiQp1ck"
      }
    },
    {
      "cell_type": "markdown",
      "source": [
        "##### 2. What is/are the insight(s) found from the chart?"
      ],
      "metadata": {
        "id": "ZWILFDl5p1ck"
      }
    },
    {
      "cell_type": "markdown",
      "source": [
        "Max number of fatalities are taken place in year 2014. followed by 2015,2016,2017,2013."
      ],
      "metadata": {
        "id": "x-lUsV2mp1ck"
      }
    },
    {
      "cell_type": "markdown",
      "source": [
        "##### 3. Will the gained insights help creating a positive business impact?\n",
        "Are there any insights that lead to negative growth? Justify with specific reason."
      ],
      "metadata": {
        "id": "M7G43BXep1ck"
      }
    },
    {
      "cell_type": "markdown",
      "source": [
        "Yes . Insights having negetive growth because it is not good for the country reputation or from any other perspective. It should be controlled by taking action on criminalism."
      ],
      "metadata": {
        "id": "5wwDJXsLp1cl"
      }
    },
    {
      "cell_type": "markdown",
      "source": [
        "#### Chart - 13- Scatterplot"
      ],
      "metadata": {
        "id": "Ag9LCva-p1cl"
      }
    },
    {
      "cell_type": "code",
      "source": [
        "# Chart - 13 visualization code\n",
        "rslt = df_GTA[df_GTA['nkill']!=200].sort_values('nkill',ascending=False).head(20)\n",
        "print('Summary of Top 20 incident by Total Number of killed :')\n",
        "print(rslt[['country_txt','region_txt','city','nkill','idate','attacktype1_txt','latitude','longitude']].to_string())\n",
        "\n",
        "fig= plt.subplots()\n",
        "ax = sbn.scatterplot(data=rslt,x='longitude',y='latitude',hue='city',size='nkill')\n",
        "plt.legend(bbox_to_anchor=(1.02, 1), loc='upper left', borderaxespad=0)\n",
        "plt.title('Number of fatalities (directional coordinate wise) with size and city ')\n",
        "plt.xlabel('longitude')\n",
        "plt.title('Size distribution with longitude and latiitude of city')\n",
        "plt.show()"
      ],
      "metadata": {
        "id": "EUfxeq9-p1cl"
      },
      "execution_count": null,
      "outputs": []
    },
    {
      "cell_type": "markdown",
      "source": [
        "##### 1. Why did you pick the specific chart?"
      ],
      "metadata": {
        "id": "E6MkPsBcp1cl"
      }
    },
    {
      "cell_type": "markdown",
      "source": [
        "This chart we picked to show multivariate analysis."
      ],
      "metadata": {
        "id": "V22bRsFWp1cl"
      }
    },
    {
      "cell_type": "markdown",
      "source": [
        "##### 2. What is/are the insight(s) found from the chart?"
      ],
      "metadata": {
        "id": "2cELzS2fp1cl"
      }
    },
    {
      "cell_type": "markdown",
      "source": [
        "we shown chart as well as table to show some useful insights having"
      ],
      "metadata": {
        "id": "ozQPc2_Ip1cl"
      }
    },
    {
      "cell_type": "markdown",
      "source": [
        "##### 3. Will the gained insights help creating a positive business impact?\n",
        "Are there any insights that lead to negative growth? Justify with specific reason."
      ],
      "metadata": {
        "id": "3MPXvC8up1cl"
      }
    },
    {
      "cell_type": "markdown",
      "source": [],
      "metadata": {
        "id": "GL8l1tdLp1cl"
      }
    },
    {
      "cell_type": "markdown",
      "source": [
        "#### Chart - 14 - Correlation Heatmap"
      ],
      "metadata": {
        "id": "NC_X3p0fY2L0"
      }
    },
    {
      "cell_type": "code",
      "source": [
        "print(df_GTA.corr().to_string())"
      ],
      "metadata": {
        "id": "d8XN2s0hp2b7"
      },
      "execution_count": null,
      "outputs": []
    },
    {
      "cell_type": "code",
      "source": [
        "# Correlation Heatmap visualization code\n",
        "ax,fig = plt.subplots(figsize=(15,15))\n",
        "sbn.heatmap(data=df_GTA.corr(),annot=True)"
      ],
      "metadata": {
        "id": "xyC9zolEZNRQ"
      },
      "execution_count": null,
      "outputs": []
    },
    {
      "cell_type": "markdown",
      "source": [
        "##### 1. Why did you pick the specific chart?"
      ],
      "metadata": {
        "id": "UV0SzAkaZNRQ"
      }
    },
    {
      "cell_type": "markdown",
      "source": [
        "\n",
        "We pick heatmap to know the relationship between two columns with every combination. (For Bivariate analysis)"
      ],
      "metadata": {
        "id": "DVPuT8LYZNRQ"
      }
    },
    {
      "cell_type": "markdown",
      "source": [
        "##### 2. What is/are the insight(s) found from the chart?"
      ],
      "metadata": {
        "id": "YPEH6qLeZNRQ"
      }
    },
    {
      "cell_type": "markdown",
      "source": [
        "\n",
        "We created some visualization charts from begining. By observing this heat map. ex, Country having relation with nkill, nillte etc."
      ],
      "metadata": {
        "id": "bfSqtnDqZNRR"
      }
    },
    {
      "cell_type": "markdown",
      "source": [
        "#### Chart - 15 - Pair Plot"
      ],
      "metadata": {
        "id": "q29F0dvdveiT"
      }
    },
    {
      "cell_type": "code",
      "source": [
        "# Pair Plot visualization\n",
        "# since the data is too big in dataset can't create pair plot"
      ],
      "metadata": {
        "id": "o58-TEIhveiU"
      },
      "execution_count": null,
      "outputs": []
    },
    {
      "cell_type": "markdown",
      "source": [
        "#### Chart - 16 **scatterplot**"
      ],
      "metadata": {
        "id": "AdiwHwLvknPf"
      }
    },
    {
      "cell_type": "code",
      "source": [
        "#### Chart-16 - visualization code\n",
        "rslt = df_GTA[df_GTA['nkillus']!=200].sort_values('nkillus',ascending=False).head(20)\n",
        "print('Summary of Number of US Citizen killed :')\n",
        "print(rslt[['country_txt','region_txt','city','nkillus','idate','attacktype1_txt','latitude','longitude']].to_string())\n",
        "\n",
        "fig= plt.subplots()\n",
        "ax = sbn.scatterplot(data=rslt,x='longitude',y='latitude',hue='city',size='nkillus')\n",
        "plt.legend(bbox_to_anchor=(1.02, 1), loc='upper left', borderaxespad=0)\n",
        "plt.title('Number of fatalities (directional coordinate wise) with size and city ')\n",
        "plt.xlabel('longitude')\n",
        "plt.title('latitude')\n",
        "plt.show()"
      ],
      "metadata": {
        "id": "vw8u0w8KkmoJ"
      },
      "execution_count": null,
      "outputs": []
    },
    {
      "cell_type": "markdown",
      "source": [
        "1. Why did you pick the specific chart?\n"
      ],
      "metadata": {
        "id": "NmjwpByf4q6c"
      }
    },
    {
      "cell_type": "markdown",
      "source": [
        "Choosed Scatter plot to show M- Multivariate Analysis"
      ],
      "metadata": {
        "id": "uXRCHagw5JlR"
      }
    },
    {
      "cell_type": "markdown",
      "source": [
        "2. What is/are the insight(s) found from the chart?\n",
        "Answer Here\n",
        "\n"
      ],
      "metadata": {
        "id": "mfL94_qc4sfV"
      }
    },
    {
      "cell_type": "markdown",
      "source": [
        "\n",
        "* By Above visualization we found the two biggest incident in almost same co-ordinate.\n",
        "\n",
        "* The September 11 attacks, commonly known as 9/11, were four coordinated suicide terrorist attacks carried out by al-Qaeda against the United States on Tuesday, September 11, 2001. That morning, 19 terrorists hijacked four commercial airliners scheduled to travel from the New England and Mid-Atlantic regions of the East Coast to California. The hijackers crashed the first two planes into the Twin Towers of the World Trade Center in New York City, two of the five tallest buildings in the world at the time.\n",
        "\n",
        "Information source - https://en.wikipedia.org/wiki/September_11_attacks\n",
        "\n",
        "\n"
      ],
      "metadata": {
        "id": "6mQfCUQB5EYR"
      }
    },
    {
      "cell_type": "markdown",
      "source": [
        " # Chart - 17- Scatterplot"
      ],
      "metadata": {
        "id": "qDfDF9N638_-"
      }
    },
    {
      "cell_type": "code",
      "source": [
        "#Chart - 17- visualization code\n",
        "rslt = df_GTA[df_GTA['nkillter']!=200].sort_values('nkillter',ascending=False).head(20)\n",
        "print('Summary of Number of Tererist Citizen killed :')\n",
        "print(rslt[['country_txt','region_txt','city','nkillter','idate','attacktype1_txt','latitude','longitude']].to_string())\n",
        "\n",
        "fig= plt.subplots()\n",
        "ax = sbn.scatterplot(data=rslt,x='longitude',y='latitude',hue='city',size='nkillter')\n",
        "sbn.color_palette(\"husl\", 9)\n",
        "plt.title('Number of fatalities (directional coordinate wise) with size and city ')\n",
        "plt.xlabel('longitude')\n",
        "plt.title('latitude')\n",
        "plt.legend(bbox_to_anchor=(1.02, 1), loc='upper left', borderaxespad=0)\n",
        "plt.show()"
      ],
      "metadata": {
        "id": "4Rg84gNb35mF"
      },
      "execution_count": null,
      "outputs": []
    },
    {
      "cell_type": "markdown",
      "source": [
        "1. Why did you pick the specific chart?\n"
      ],
      "metadata": {
        "id": "2QvU08hq4Dkn"
      }
    },
    {
      "cell_type": "markdown",
      "source": [
        "  We choose scatterplot to show the total no of nkillter with respect to city.\n",
        "\n"
      ],
      "metadata": {
        "id": "TO1I-6hp4HM1"
      }
    },
    {
      "cell_type": "markdown",
      "source": [
        "2. What is/are the insight(s) found from the chart?\n"
      ],
      "metadata": {
        "id": "iPXOdX_n4Qkz"
      }
    },
    {
      "cell_type": "markdown",
      "source": [
        "By above chart and table we observed that most terrorist killed in Dhading district\n",
        "\n"
      ],
      "metadata": {
        "id": "13pB5Ave4Sm4"
      }
    },
    {
      "cell_type": "markdown",
      "source": [
        "3. Will the gained insights help creating a positive business impact?\n",
        "Are there any insights that lead to negative growth? Justify with specific reason.\n"
      ],
      "metadata": {
        "id": "fw0tYB6w4aE_"
      }
    },
    {
      "cell_type": "markdown",
      "source": [
        "We found most of all terrorist are killed in Dhading district It should be controlled by taking action on criminalism."
      ],
      "metadata": {
        "id": "94BOioXD4crw"
      }
    },
    {
      "cell_type": "markdown",
      "source": [
        "# Chart-18"
      ],
      "metadata": {
        "id": "qhdGqHU26S5N"
      }
    },
    {
      "cell_type": "code",
      "source": [
        "#### Chart-19-visualization code\n",
        "\n",
        "doubtterr_count = df_GTA[df_GTA['doubtterr'] != -200]\n",
        "ax,fig= plt.subplots(figsize=(5,5))\n",
        "ax = sbn.countplot(data=doubtterr_count,x='doubtterr')\n",
        "plt.xlabel('0 - No Doubt, 1- Doubt') #xlable\n",
        "plt.title('Act of terrerism')\n",
        "for p in ax.patches:\n",
        "    # ax.annotate(format(p.get_height(), '.2f'), (p.get_x() + p.get_width() / 2., p.get_height()),  ha = 'center', va = 'center', xytext = (0, 10), textcoords = 'offset points',rotation=90)\n",
        "     ax.annotate(format((p.get_height()/success_count)*100, '.2f')+'%', (p.get_x() + p.get_width() / 2., p.get_height()),  ha = 'center', va = 'center', xytext = (0, 10), textcoords = 'offset points')\n",
        "plt.show()"
      ],
      "metadata": {
        "id": "IO5kryQ95S5N"
      },
      "execution_count": null,
      "outputs": []
    },
    {
      "cell_type": "markdown",
      "source": [
        "1. Why did you pick the specific chart?"
      ],
      "metadata": {
        "id": "mfNGBWtf5WUL"
      }
    },
    {
      "cell_type": "markdown",
      "source": [
        "We choose countplot to show percentage of terrerism act"
      ],
      "metadata": {
        "id": "Gm5obMfN5Zyv"
      }
    },
    {
      "cell_type": "markdown",
      "source": [
        "2. What is/are the insight(s) found from the chart?"
      ],
      "metadata": {
        "id": "zX9BKDyl5gGo"
      }
    },
    {
      "cell_type": "markdown",
      "source": [
        "* By above obeservation 76.45% no doubt. It is a terrorist act\n",
        "* And 15.96% doubt"
      ],
      "metadata": {
        "id": "xZmdkD435hvN"
      }
    },
    {
      "cell_type": "markdown",
      "source": [
        "3. Will the gained insights help creating a positive business impact? Are there any insights that lead to negative growth? Justify with specific reason."
      ],
      "metadata": {
        "id": "cmaelV3e5m2H"
      }
    },
    {
      "cell_type": "markdown",
      "source": [
        "Yes, we clear about the act of terrorism this insights very helpful to take action on terrorism"
      ],
      "metadata": {
        "id": "5t710Tnw5qkW"
      }
    },
    {
      "cell_type": "markdown",
      "source": [
        "# Chart-19"
      ],
      "metadata": {
        "id": "I8VjO9xk5y55"
      }
    },
    {
      "cell_type": "code",
      "source": [
        "#### Chart-19\n",
        "vicinity_count = df_GTA['vicinity'].count()\n",
        "ax,fig= plt.subplots(figsize=(5,5))\n",
        "ax = sbn.countplot(data=df_GTA,x='vicinity')\n",
        "for p in ax.patches:\n",
        "    # ax.annotate(format(p.get_height(), '.2f'), (p.get_x() + p.get_width() / 2., p.get_height()),  ha = 'center', va = 'center', xytext = (0, 10), textcoords = 'offset points',rotation=90)\n",
        "    ax.annotate(format((p.get_height()/vicinity_count)*100, '.2f')+'%', (p.get_x() + p.get_width() / 2., p.get_height()),  ha = 'center', va = 'center', xytext = (0, 10), textcoords = 'offset points')\n",
        "\n"
      ],
      "metadata": {
        "id": "DezjKfov5cOk"
      },
      "execution_count": null,
      "outputs": []
    },
    {
      "cell_type": "markdown",
      "source": [
        "1. Why did you pick the specific chart?"
      ],
      "metadata": {
        "id": "QiCML0kY537W"
      }
    },
    {
      "cell_type": "markdown",
      "source": [
        "We choose countplot to show the incident occured in immediate vicinity of city or incident occured in city itself."
      ],
      "metadata": {
        "id": "b7XxKSj-57LZ"
      }
    },
    {
      "cell_type": "markdown",
      "source": [
        "2. What is/are the insight(s) found from the chart?"
      ],
      "metadata": {
        "id": "h0JaKYEn58_0"
      }
    },
    {
      "cell_type": "markdown",
      "source": [
        "* By above observation 92.98% the incident occured in city.\n",
        "* And 7.00% incident occured in immediate vicinity of the city"
      ],
      "metadata": {
        "id": "Leg4Cxjf6BN8"
      }
    },
    {
      "cell_type": "markdown",
      "source": [
        "3. Will the gained insights help creating a positive business impact? Are there any insights that lead to negative growth? Justify with specific reason."
      ],
      "metadata": {
        "id": "DLkAsmJs6Dad"
      }
    },
    {
      "cell_type": "markdown",
      "source": [
        "Answer Here"
      ],
      "metadata": {
        "id": "MAA39qJ26IEM"
      }
    },
    {
      "cell_type": "markdown",
      "source": [
        "## **5. Solution to Business Objective**"
      ],
      "metadata": {
        "id": "JcMwzZxoAimU"
      }
    },
    {
      "cell_type": "markdown",
      "source": [
        "#### What do you suggest the client to achieve Business Objective ?\n",
        "Explain Briefly."
      ],
      "metadata": {
        "id": "8G2x9gOozGDZ"
      }
    },
    {
      "cell_type": "markdown",
      "source": [
        "The business objective of the World Terrorism Database (WTD) is to provide a comprehensive and reliable source of data and analysis on global terrorism incidents. The database serves the following business objectives:\n",
        "\n",
        "Data Provision: The WTD aims to collect, curate, and provide accurate and up-to-date data on terrorist incidents worldwide. By maintaining a comprehensive and reliable database, the objective is to serve as a trusted resource for researchers, policymakers, security agencies, and other stakeholders seeking information on terrorism trends, patterns, and characteristics.\n",
        "\n",
        "Analysis and Insights: The WTD conducts in-depth analysis and exploration of the collected data to uncover meaningful insights and trends related to global terrorism. By employing various analytical techniques, the objective is to provide valuable insights into the factors influencing terrorism, temporal and spatial patterns, attack types, tactics, and the impact of terrorism. These insights contribute to a better understanding of terrorism dynamics and aid in the development of effective counter-terrorism strategies.\n",
        "\n",
        "Decision Support: The WTD aims to support evidence-based decision-making by providing timely and accurate information to policymakers, security agencies, and organizations involved in counter-terrorism efforts. The objective is to help stakeholders make informed decisions, allocate resources effectively, and develop targeted interventions to prevent and mitigate the impact of terrorism.\n",
        "\n",
        "Risk Assessment: By analyzing global terrorism trends and patterns, the WTD contributes to risk assessment and threat analysis. The objective is to help businesses, governments, and organizations assess the potential risks and vulnerabilities related to terrorism in specific regions or sectors. This information enables them to develop risk management strategies and implement appropriate security measures.\n",
        "\n",
        "Collaboration and Partnerships: The WTD seeks to foster collaboration and partnerships among researchers, policymakers, and security agencies. The objective is to create a platform for sharing knowledge, exchanging best practices, and promoting international cooperation in combating terrorism. Collaborative efforts can lead to more effective strategies, improved data quality, and a broader understanding of the complex dynamics of terrorism.\n",
        "\n",
        "Overall, the business objective of the World Terrorism Database is to provide accurate, comprehensive, and insightful data and analysis to support decision-making, risk assessment, and counter-terrorism efforts globally. By fulfilling these objectives, the WTD aims to contribute to a safer and more secure world by combating terrorism effectively."
      ],
      "metadata": {
        "id": "pASKb0qOza21"
      }
    },
    {
      "cell_type": "markdown",
      "source": [
        "# **Conclusion**"
      ],
      "metadata": {
        "id": "gCX9965dhzqZ"
      }
    },
    {
      "cell_type": "markdown",
      "source": [
        "The Exploratory Data Analysis (EDA) conducted on the Global Terrorism Dataset provided significant insights into trends and patterns in global terrorism from 1970 through 2017. With the help of the Python libraries Pandas, Matplotlib, Seaborn, and NumPy, we were able to handle, visualize and interpret complex data related to terrorist activities.\n",
        "\n",
        "Through this analysis, we identified trends over time, regional hotspots, dominant terrorist groups, and preferred modes of attacks. All these findings are crucial for devising effective counter-terrorism strategies and interventions.\n",
        "\n",
        "The process underscored the power of data-driven decision-making. By using EDA, we were able to transform raw data into meaningful insights. For instance, understanding that certain regions are more prone to terrorist attacks or that specific terrorist groups are more active allows security agencies and policymakers to allocate resources more efficiently, thereby potentially saving lives and property.\n",
        "\n",
        "However, while this data analysis provides a robust foundation, it's important to acknowledge that addressing terrorism requires more than just understanding past data. It necessitates a comprehensive approach that includes current intelligence, geopolitical considerations, and on-the-ground realities.\n",
        "\n",
        "To conclude, this project demonstrates the potential of data analysis in informing and shaping counter-terrorism efforts. It provides a useful starting point for further study and action, emphasizing the importance of continuous data collection, analysis, and interpretation in tackling global security challenges like terrorism.\n",
        "\n",
        "Need to keep in mind to achieve Business Objective.\n",
        "Highlights :\n",
        "During the period of 1970-2017, the following highlights emerge regarding the most attacked countries and regions based on the World Terrorism Database:\n",
        "Most Attacked Countries :\n",
        "\n",
        "#Iraq:\n",
        "\n",
        "Iraq witnessed a significant number of terrorist incidents during this period, particularly after the 2003 invasion and the subsequent rise of ISIS.\n",
        "\n",
        "The country faced numerous bombings, armed assaults, and attacks targeting civilians, security forces, and infrastructure.\n",
        "\n",
        "Sectarian conflicts, insurgencies, and political instability contributed to the high levels of violence.\n",
        "\n",
        "#Afghanistan :\n",
        "\n",
        "Afghanistan experienced a prolonged period of conflict, making it highly vulnerable to terrorist attacks.\n",
        "\n",
        "The country faced a substantial number of suicide bombings, armed assaults, and attacks targeting government institutions, security forces, and civilians.\n",
        "\n",
        "Ongoing insurgency, the presence of Taliban, and the influence of extremist groups contributed to the violence.\n",
        "\n",
        "#Pakistan :\n",
        "\n",
        "Pakistan witnessed a significant rise in terrorist incidents during this period, including suicide bombings, sectarian violence, and attacks on religious and minority groups.\n",
        "\n",
        "The country faced challenges from groups like Tehrik-i-Taliban Pakistan (TTP) and extremist factions seeking to destabilize the country.\n",
        "\n",
        "Attacks targeted civilians, security forces, religious sites, and government institutions.\n",
        "\n",
        "#India :\n",
        "\n",
        "India experienced a considerable number of terrorist incidents, particularly related to separatist movements in regions like Jammu and Kashmir.\n",
        "\n",
        "The country faced bombings, armed attacks, and incidents of cross-border terrorism.\n",
        "\n",
        "Attacks targeted security forces, public spaces, and religious sites.\n",
        "\n",
        "#colombia :\n",
        "\n",
        "Colombia endured a prolonged armed conflict involving various insurgent groups like the Revolutionary Armed Forces of Colombia (FARC) and National Liberation Army (ELN).\n",
        "\n",
        "The country faced bombings, armed assaults, kidnappings, and attacks on infrastructure, security forces, and civilians.\n",
        "\n",
        "The conflict was fueled by political, social, and drug trafficking-related motivations.\n",
        "\n",
        "#Most Attacked Region:\n",
        "\n",
        "The Middle East and North Africa (MENA) region:\n",
        "\n",
        "The MENA region witnessed a significant number of terrorist incidents during the specified period.\n",
        "\n",
        "Ongoing conflicts, sectarian tensions, and the rise of extremist groups contributed to the high levels of violence.\n",
        "\n",
        "Countries like Iraq, Syria, Lebanon, and Yemen were particularly affected by terrorism during this period.\n",
        "\n",
        "These highlights shed light on the countries and regions that experienced a high incidence of terrorism between 1970 and 2017.\n",
        "\n"
      ],
      "metadata": {
        "id": "Fjb1IsQkh3yE"
      }
    },
    {
      "cell_type": "markdown",
      "source": [
        "### ***Hurrah! You have successfully completed your EDA Capstone Project !!!***"
      ],
      "metadata": {
        "id": "gIfDvo9L0UH2"
      }
    }
  ]
}